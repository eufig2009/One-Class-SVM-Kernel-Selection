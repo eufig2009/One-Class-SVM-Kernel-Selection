{
 "metadata": {
  "name": "",
  "signature": "sha256:e07aac5a1e678bb3829d3847a155c2be6b59ccb8745aa9fd6999672f481daa64"
 },
 "nbformat": 3,
 "nbformat_minor": 0,
 "worksheets": [
  {
   "cells": [
    {
     "cell_type": "code",
     "collapsed": false,
     "input": [
      "import pickle\n",
      "%pylab inline\n",
      "from sklearn.svm import SVDD\n",
      "from sklearn.metrics import pairwise_distances\n",
      "import pandas as pd\n",
      "from random import sample\n",
      "import numpy as np\n",
      "import sys\n",
      "import os\n",
      "from sklearn.cross_validation import KFold\n",
      "from scipy.linalg import schur\n",
      "from sklearn.cross_validation import train_test_split \n",
      "from sklearn.metrics import auc, roc_curve\n",
      "from sklearn.utils import check_random_state\n",
      "from scipy.spatial import cKDTree\n",
      "from sklearn.utils import array2d\n",
      "import time\n",
      "nu = 0.1"
     ],
     "language": "python",
     "metadata": {},
     "outputs": [
      {
       "output_type": "stream",
       "stream": "stdout",
       "text": [
        "Populating the interactive namespace from numpy and matplotlib\n"
       ]
      },
      {
       "output_type": "stream",
       "stream": "stderr",
       "text": [
        "WARNING: pylab import has clobbered these variables: ['sample']\n",
        "`%matplotlib` prevents importing * from pylab and numpy\n"
       ]
      }
     ],
     "prompt_number": 12
    },
    {
     "cell_type": "code",
     "collapsed": false,
     "input": [
      "def generate_synthetic_data(size, dim=2, centroid_count=2, centroid_dispersion=1):\n",
      "    size = int(size)\n",
      "    centroids = np.random.rand(centroid_count, dim) * 10 - 5\n",
      "    all_data_part = []\n",
      "    for point in centroids:\n",
      "        covariation_matrix = np.random.randn(dim, dim)\n",
      "        covariation_matrix = np.dot(covariation_matrix, covariation_matrix.T)\n",
      "        covariation_matrix, _ = schur(covariation_matrix)\n",
      "        data_part = np.random.randn(int(size / centroid_count), dim)\n",
      "        data_part = np.dot(data_part, covariation_matrix) + point\n",
      "        all_data_part.append(data_part)\n",
      "    data = np.concatenate(all_data_part, axis=0)\n",
      "    return data"
     ],
     "language": "python",
     "metadata": {},
     "outputs": [],
     "prompt_number": 13
    },
    {
     "cell_type": "code",
     "collapsed": false,
     "input": [
      "def generate_outlier(size, dim=2, space=1000):\n",
      "    size = int(size)\n",
      "    outliers = (np.random.rand(size, dim) - 0.5) * space * 2\n",
      "    return outliers"
     ],
     "language": "python",
     "metadata": {},
     "outputs": [],
     "prompt_number": 14
    },
    {
     "cell_type": "code",
     "collapsed": false,
     "input": [
      "def generate_dataset(size, outliers_part=0.12, dim=2, centroid_count=2, centroid_dispersion=1):\n",
      "    inliers = generate_synthetic_data(size * (1 - outliers_part), \n",
      "                                               dim, centroid_count, \n",
      "                                               centroid_dispersion)\n",
      "    outliers = generate_outlier(size*outliers_part, dim, space=centroid_dispersion*50)\n",
      "    data = np.concatenate([inliers, outliers], axis=0)\n",
      "    data = pd.DataFrame(data)\n",
      "    data['label'] = ['target'] * len(inliers) + ['outlier'] * len(outliers)\n",
      "    return data"
     ],
     "language": "python",
     "metadata": {},
     "outputs": [],
     "prompt_number": 44
    },
    {
     "cell_type": "heading",
     "level": 4,
     "metadata": {},
     "source": [
      "Plot data sets example"
     ]
    },
    {
     "cell_type": "code",
     "collapsed": false,
     "input": [
      "size = 1000\n",
      "outliers_part = 0.1\n",
      "dim = 2\n",
      "centroid_count = 5\n",
      "centroid_dispersion = 1\n",
      "inliers = generate_synthetic_data(size * (1 - outliers_part), \n",
      "                                               dim, centroid_count, \n",
      "                                               centroid_dispersion)\n",
      "scatter(inliers[:, 0], inliers[:, 1], marker='o', label='normal')\n",
      "outliers = generate_outlier(size*outliers_part, dim, space=centroid_dispersion*50)\n",
      "scatter(outliers[:, 0], outliers[:, 1], marker='s', c='none', label='anomaly')\n",
      "legend(loc='best')"
     ],
     "language": "python",
     "metadata": {},
     "outputs": [
      {
       "metadata": {},
       "output_type": "pyout",
       "prompt_number": 39,
       "text": [
        "<matplotlib.legend.Legend at 0x7f5b21c00f90>"
       ]
      },
      {
       "metadata": {},
       "output_type": "display_data",
       "png": "[encoded data removed]",
       "text": [
        "<matplotlib.figure.Figure at 0x7f5b21c00710>"
       ]
      }
     ],
     "prompt_number": 39
    },
    {
     "cell_type": "code",
     "collapsed": false,
     "input": [
      "data = generate_dataset(1000)"
     ],
     "language": "python",
     "metadata": {},
     "outputs": [],
     "prompt_number": 45
    },
    {
     "cell_type": "code",
     "collapsed": false,
     "input": [
      "def validate_gamma(train, test_normal, test_anomaly, gamma):\n",
      "    C = 1.0 / (0.1 * (len(train)))\n",
      "    clf = SVDD(kernel='rbf', gamma=gamma, C=C)\n",
      "    #clf.fit(np.random.randn(10000, 4))\n",
      "    clf.fit(train)\n",
      "    normal_data_prediction = clf.decision_function(test_normal)\n",
      "    anomaly_data_prediction = clf.decision_function(test_anomaly)\n",
      "    normal_data_error = np.mean(normal_data_prediction < 0)\n",
      "    anomaly_data_error = np.mean(anomaly_data_prediction > 0)\n",
      "    true_labels = [1] * len(test_normal) + [-1] * len(test_anomaly)\n",
      "    decision_values = np.concatenate([normal_data_prediction, anomaly_data_prediction], axis=0)\n",
      "    fpr, tpr, thresholds = roc_curve(true_labels, decision_values)\n",
      "    auc_score = auc(fpr, tpr)\n",
      "    return normal_data_error, anomaly_data_error, auc_score"
     ],
     "language": "python",
     "metadata": {},
     "outputs": [],
     "prompt_number": 47
    },
    {
     "cell_type": "code",
     "collapsed": false,
     "input": [
      "def model_selection(data, all_gammas, selection_technic):\n",
      "    metrics = zeros(all_gammas.shape[0])\n",
      "    for index, gamma in enumerate(all_gammas):\n",
      "        clf = SVDD(C = 1.0 / 100, gamma=gamma)\n",
      "        metrics[index] = selection_technic(clf, data)\n",
      "    return metrics"
     ],
     "language": "python",
     "metadata": {},
     "outputs": [],
     "prompt_number": 48
    },
    {
     "cell_type": "code",
     "collapsed": false,
     "input": [
      "def combinatorial_dimension_metric(clf, train_x):\n",
      "    clf.fit(train_x)\n",
      "    prediction = clf.decision_function(train_x)\n",
      "    negative_marks = prediction < 0\n",
      "    prediction = prediction[negative_marks]\n",
      "    distance = prediction.min()\n",
      "    radius = calculate_radius(clf)\n",
      "    return abs(distance) / radius"
     ],
     "language": "python",
     "metadata": {},
     "outputs": [],
     "prompt_number": 50
    },
    {
     "cell_type": "code",
     "collapsed": false,
     "input": [
      "all_gammas = np.logspace(-10, 10, 30)"
     ],
     "language": "python",
     "metadata": {},
     "outputs": [],
     "prompt_number": 53
    },
    {
     "cell_type": "code",
     "collapsed": false,
     "input": [
      "model_selection(data.iloc[:, :-1], all_gammas, combinatorial_dimension_metric)"
     ],
     "language": "python",
     "metadata": {},
     "outputs": [
      {
       "ename": "NameError",
       "evalue": "global name 'calculate_radius' is not defined",
       "output_type": "pyerr",
       "traceback": [
        "\u001b[1;31m---------------------------------------------------------------------------\u001b[0m\n\u001b[1;31mNameError\u001b[0m                                 Traceback (most recent call last)",
        "\u001b[1;32m<ipython-input-54-196e32c69d69>\u001b[0m in \u001b[0;36m<module>\u001b[1;34m()\u001b[0m\n\u001b[1;32m----> 1\u001b[1;33m \u001b[0mmodel_selection\u001b[0m\u001b[1;33m(\u001b[0m\u001b[0mdata\u001b[0m\u001b[1;33m.\u001b[0m\u001b[0miloc\u001b[0m\u001b[1;33m[\u001b[0m\u001b[1;33m:\u001b[0m\u001b[1;33m,\u001b[0m \u001b[1;33m:\u001b[0m\u001b[1;33m-\u001b[0m\u001b[1;36m1\u001b[0m\u001b[1;33m]\u001b[0m\u001b[1;33m,\u001b[0m \u001b[0mall_gammas\u001b[0m\u001b[1;33m,\u001b[0m \u001b[0mcombinatorial_dimension_metric\u001b[0m\u001b[1;33m)\u001b[0m\u001b[1;33m\u001b[0m\u001b[0m\n\u001b[0m",
        "\u001b[1;32m<ipython-input-48-11e06905db93>\u001b[0m in \u001b[0;36mmodel_selection\u001b[1;34m(data, all_gammas, selection_technic)\u001b[0m\n\u001b[0;32m      3\u001b[0m     \u001b[1;32mfor\u001b[0m \u001b[0mindex\u001b[0m\u001b[1;33m,\u001b[0m \u001b[0mgamma\u001b[0m \u001b[1;32min\u001b[0m \u001b[0menumerate\u001b[0m\u001b[1;33m(\u001b[0m\u001b[0mall_gammas\u001b[0m\u001b[1;33m)\u001b[0m\u001b[1;33m:\u001b[0m\u001b[1;33m\u001b[0m\u001b[0m\n\u001b[0;32m      4\u001b[0m         \u001b[0mclf\u001b[0m \u001b[1;33m=\u001b[0m \u001b[0mSVDD\u001b[0m\u001b[1;33m(\u001b[0m\u001b[0mC\u001b[0m \u001b[1;33m=\u001b[0m \u001b[1;36m1.0\u001b[0m \u001b[1;33m/\u001b[0m \u001b[1;36m100\u001b[0m\u001b[1;33m,\u001b[0m \u001b[0mgamma\u001b[0m\u001b[1;33m=\u001b[0m\u001b[0mgamma\u001b[0m\u001b[1;33m)\u001b[0m\u001b[1;33m\u001b[0m\u001b[0m\n\u001b[1;32m----> 5\u001b[1;33m         \u001b[0mmetrics\u001b[0m\u001b[1;33m[\u001b[0m\u001b[0mindex\u001b[0m\u001b[1;33m]\u001b[0m \u001b[1;33m=\u001b[0m \u001b[0mselection_technic\u001b[0m\u001b[1;33m(\u001b[0m\u001b[0mclf\u001b[0m\u001b[1;33m,\u001b[0m \u001b[0mdata\u001b[0m\u001b[1;33m)\u001b[0m\u001b[1;33m\u001b[0m\u001b[0m\n\u001b[0m\u001b[0;32m      6\u001b[0m     \u001b[1;32mreturn\u001b[0m \u001b[0mmetrics\u001b[0m\u001b[1;33m\u001b[0m\u001b[0m\n",
        "\u001b[1;32m<ipython-input-50-faa772ac7bac>\u001b[0m in \u001b[0;36mcombinatorial_dimension_metric\u001b[1;34m(clf, train_x)\u001b[0m\n\u001b[0;32m      5\u001b[0m     \u001b[0mprediction\u001b[0m \u001b[1;33m=\u001b[0m \u001b[0mprediction\u001b[0m\u001b[1;33m[\u001b[0m\u001b[0mnegative_marks\u001b[0m\u001b[1;33m]\u001b[0m\u001b[1;33m\u001b[0m\u001b[0m\n\u001b[0;32m      6\u001b[0m     \u001b[0mdistance\u001b[0m \u001b[1;33m=\u001b[0m \u001b[0mprediction\u001b[0m\u001b[1;33m.\u001b[0m\u001b[0mmin\u001b[0m\u001b[1;33m(\u001b[0m\u001b[1;33m)\u001b[0m\u001b[1;33m\u001b[0m\u001b[0m\n\u001b[1;32m----> 7\u001b[1;33m     \u001b[0mradius\u001b[0m \u001b[1;33m=\u001b[0m \u001b[0mcalculate_radius\u001b[0m\u001b[1;33m(\u001b[0m\u001b[0mclf\u001b[0m\u001b[1;33m)\u001b[0m\u001b[1;33m\u001b[0m\u001b[0m\n\u001b[0m\u001b[0;32m      8\u001b[0m     \u001b[1;32mreturn\u001b[0m \u001b[0mabs\u001b[0m\u001b[1;33m(\u001b[0m\u001b[0mdistance\u001b[0m\u001b[1;33m)\u001b[0m \u001b[1;33m/\u001b[0m \u001b[0mradius\u001b[0m\u001b[1;33m\u001b[0m\u001b[0m\n",
        "\u001b[1;31mNameError\u001b[0m: global name 'calculate_radius' is not defined"
       ]
      }
     ],
     "prompt_number": 54
    },
    {
     "cell_type": "code",
     "collapsed": false,
     "input": [],
     "language": "python",
     "metadata": {},
     "outputs": []
    }
   ],
   "metadata": {}
  }
 ]
}