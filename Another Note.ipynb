{
 "metadata": {
  "name": "",
  "signature": "sha256:c77e8cdc14549b630447fec8b5d04d07ec66c844375e03787b50b0e9ef82aceb"
 },
 "nbformat": 3,
 "nbformat_minor": 0,
 "worksheets": [
  {
   "cells": [
    {
     "cell_type": "code",
     "collapsed": false,
     "input": [
      "class DummyClass(object):\n",
      "    def __len__(self):\n",
      "        return 999999999999999L\n",
      "dummyObject = DummyClass()"
     ],
     "language": "python",
     "metadata": {},
     "outputs": []
    },
    {
     "cell_type": "code",
     "collapsed": false,
     "input": [],
     "language": "python",
     "metadata": {},
     "outputs": []
    }
   ],
   "metadata": {}
  }
 ]
}