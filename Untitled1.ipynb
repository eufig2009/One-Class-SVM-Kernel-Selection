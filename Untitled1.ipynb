{
 "cells": [
  {
   "cell_type": "code",
   "execution_count": 1,
   "metadata": {
    "collapsed": false
   },
   "outputs": [
    {
     "name": "stdout",
     "output_type": "stream",
     "text": [
      "Populating the interactive namespace from numpy and matplotlib\n"
     ]
    }
   ],
   "source": [
    "%pylab inline"
   ]
  },
  {
   "cell_type": "code",
   "execution_count": 2,
   "metadata": {
    "collapsed": true
   },
   "outputs": [],
   "source": [
    "from sklearn.cross_validation import Bootstrap"
   ]
  },
  {
   "cell_type": "code",
   "execution_count": 21,
   "metadata": {
    "collapsed": true
   },
   "outputs": [],
   "source": [
    "x = rand(50)"
   ]
  },
  {
   "cell_type": "code",
   "execution_count": 22,
   "metadata": {
    "collapsed": false
   },
   "outputs": [
    {
     "data": {
      "text/plain": [
       "(array([ 8.,  4.,  4.,  6.,  8.,  1.,  2.,  8.,  4.,  5.]),\n",
       " array([ 0.02363645,  0.12093837,  0.2182403 ,  0.31554223,  0.41284415,\n",
       "         0.51014608,  0.607448  ,  0.70474993,  0.80205186,  0.89935378,\n",
       "         0.99665571]),\n",
       " <a list of 10 Patch objects>)"
      ]
     },
     "execution_count": 22,
     "metadata": {},
     "output_type": "execute_result"
    },
    {
     "data": {
      "image/png": "[encoded data removed]",
      "text/plain": [
       "<matplotlib.figure.Figure at 0x7f85a68152d0>"
      ]
     },
     "metadata": {},
     "output_type": "display_data"
    }
   ],
   "source": [
    "hist(x, bins=10)"
   ]
  },
  {
   "cell_type": "code",
   "execution_count": 52,
   "metadata": {
    "collapsed": false
   },
   "outputs": [],
   "source": [
    "fold = Bootstrap(50, 50)"
   ]
  },
  {
   "cell_type": "code",
   "execution_count": 53,
   "metadata": {
    "collapsed": false
   },
   "outputs": [],
   "source": [
    "bootstrapped_theta = []\n",
    "for indices in fold:\n",
    "    boot_straped_x = x[concatenate(indices)]\n",
    "    bootstrapped_theta.append(boot_straped_x.max())\n",
    "    "
   ]
  },
  {
   "cell_type": "code",
   "execution_count": 54,
   "metadata": {
    "collapsed": false
   },
   "outputs": [
    {
     "data": {
      "text/plain": [
       "50"
      ]
     },
     "execution_count": 54,
     "metadata": {},
     "output_type": "execute_result"
    }
   ],
   "source": [
    "len(x)"
   ]
  },
  {
   "cell_type": "code",
   "execution_count": 55,
   "metadata": {
    "collapsed": false
   },
   "outputs": [
    {
     "data": {
      "text/plain": [
       "(array([  2.,   0.,   0.,   0.,  17.,   0.,   0.,   0.,   0.,  31.]),\n",
       " array([ 0.95026645,  0.95490538,  0.9595443 ,  0.96418323,  0.96882215,\n",
       "         0.97346108,  0.97810001,  0.98273893,  0.98737786,  0.99201678,\n",
       "         0.99665571]),\n",
       " <a list of 10 Patch objects>)"
      ]
     },
     "execution_count": 55,
     "metadata": {},
     "output_type": "execute_result"
    },
    {
     "data": {
      "image/png": "[encoded data removed]",
      "text/plain": [
       "<matplotlib.figure.Figure at 0x7f85a6440fd0>"
      ]
     },
     "metadata": {},
     "output_type": "display_data"
    }
   ],
   "source": [
    "hist(bootstrapped_theta)"
   ]
  },
  {
   "cell_type": "code",
   "execution_count": 56,
   "metadata": {
    "collapsed": false
   },
   "outputs": [
    {
     "data": {
      "text/plain": [
       "0.9857439968016195"
      ]
     },
     "execution_count": 56,
     "metadata": {},
     "output_type": "execute_result"
    }
   ],
   "source": [
    "mean(bootstrapped_theta)"
   ]
  },
  {
   "cell_type": "code",
   "execution_count": 57,
   "metadata": {
    "collapsed": false
   },
   "outputs": [
    {
     "data": {
      "text/plain": [
       "0.99665570962251859"
      ]
     },
     "execution_count": 57,
     "metadata": {},
     "output_type": "execute_result"
    }
   ],
   "source": [
    "max(x)"
   ]
  },
  {
   "cell_type": "code",
   "execution_count": 58,
   "metadata": {
    "collapsed": true
   },
   "outputs": [],
   "source": [
    "import pandas as pd"
   ]
  },
  {
   "cell_type": "code",
   "execution_count": 61,
   "metadata": {
    "collapsed": true
   },
   "outputs": [],
   "source": [
    "data = pd.read_csv('fijiquakes.dat', sep='\\t')"
   ]
  },
  {
   "cell_type": "code",
   "execution_count": 62,
   "metadata": {
    "collapsed": false
   },
   "outputs": [
    {
     "data": {
      "text/html": [
       "<div style=\"max-height:1000px;max-width:1500px;overflow:auto;\">\n",
       "<table border=\"1\" class=\"dataframe\">\n",
       "  <thead>\n",
       "    <tr style=\"text-align: right;\">\n",
       "      <th></th>\n",
       "      <th>Obs.    lat   long depth mag stations</th>\n",
       "    </tr>\n",
       "  </thead>\n",
       "  <tbody>\n",
       "    <tr>\n",
       "      <th>0  </th>\n",
       "      <td> 1    -20.42 181.62   562 4.8       41</td>\n",
       "    </tr>\n",
       "    <tr>\n",
       "      <th>1  </th>\n",
       "      <td> 2    -20.62 181.03   650 4.2       15</td>\n",
       "    </tr>\n",
       "    <tr>\n",
       "      <th>2  </th>\n",
       "      <td> 3    -26.00 184.10    42 5.4       43</td>\n",
       "    </tr>\n",
       "    <tr>\n",
       "      <th>3  </th>\n",
       "      <td> 4    -17.97 181.66   626 4.1       19</td>\n",
       "    </tr>\n",
       "    <tr>\n",
       "      <th>4  </th>\n",
       "      <td> 5    -20.42 181.96   649 4.0       11</td>\n",
       "    </tr>\n",
       "    <tr>\n",
       "      <th>5  </th>\n",
       "      <td> 6    -19.68 184.31   195 4.0       12</td>\n",
       "    </tr>\n",
       "    <tr>\n",
       "      <th>6  </th>\n",
       "      <td> 7    -11.70 166.10    82 4.8       43</td>\n",
       "    </tr>\n",
       "    <tr>\n",
       "      <th>7  </th>\n",
       "      <td> 8    -28.11 181.93   194 4.4       15</td>\n",
       "    </tr>\n",
       "    <tr>\n",
       "      <th>8  </th>\n",
       "      <td> 9    -28.74 181.74   211 4.7       35</td>\n",
       "    </tr>\n",
       "    <tr>\n",
       "      <th>9  </th>\n",
       "      <td> 10   -17.47 179.59   622 4.3       19</td>\n",
       "    </tr>\n",
       "    <tr>\n",
       "      <th>10 </th>\n",
       "      <td> 11   -21.44 180.69   583 4.4       13</td>\n",
       "    </tr>\n",
       "    <tr>\n",
       "      <th>11 </th>\n",
       "      <td> 12   -12.26 167.00   249 4.6       16</td>\n",
       "    </tr>\n",
       "    <tr>\n",
       "      <th>12 </th>\n",
       "      <td> 13   -18.54 182.11   554 4.4       19</td>\n",
       "    </tr>\n",
       "    <tr>\n",
       "      <th>13 </th>\n",
       "      <td> 14   -21.00 181.66   600 4.4       10</td>\n",
       "    </tr>\n",
       "    <tr>\n",
       "      <th>14 </th>\n",
       "      <td> 15   -20.70 169.92   139 6.1       94</td>\n",
       "    </tr>\n",
       "    <tr>\n",
       "      <th>15 </th>\n",
       "      <td> 16   -15.94 184.95   306 4.3       11</td>\n",
       "    </tr>\n",
       "    <tr>\n",
       "      <th>16 </th>\n",
       "      <td> 17   -13.64 165.96    50 6.0       83</td>\n",
       "    </tr>\n",
       "    <tr>\n",
       "      <th>17 </th>\n",
       "      <td> 18   -17.83 181.50   590 4.5       21</td>\n",
       "    </tr>\n",
       "    <tr>\n",
       "      <th>18 </th>\n",
       "      <td> 19   -23.50 179.78   570 4.4       13</td>\n",
       "    </tr>\n",
       "    <tr>\n",
       "      <th>19 </th>\n",
       "      <td> 20   -22.63 180.31   598 4.4       18</td>\n",
       "    </tr>\n",
       "    <tr>\n",
       "      <th>20 </th>\n",
       "      <td> 21   -20.84 181.16   576 4.5       17</td>\n",
       "    </tr>\n",
       "    <tr>\n",
       "      <th>21 </th>\n",
       "      <td> 22   -10.98 166.32   211 4.2       12</td>\n",
       "    </tr>\n",
       "    <tr>\n",
       "      <th>22 </th>\n",
       "      <td> 23   -23.30 180.16   512 4.4       18</td>\n",
       "    </tr>\n",
       "    <tr>\n",
       "      <th>23 </th>\n",
       "      <td> 24   -30.20 182.00   125 4.7       22</td>\n",
       "    </tr>\n",
       "    <tr>\n",
       "      <th>24 </th>\n",
       "      <td> 25   -19.66 180.28   431 5.4       57</td>\n",
       "    </tr>\n",
       "    <tr>\n",
       "      <th>25 </th>\n",
       "      <td> 26   -17.94 181.49   537 4.0       15</td>\n",
       "    </tr>\n",
       "    <tr>\n",
       "      <th>26 </th>\n",
       "      <td> 27   -14.72 167.51   155 4.6       18</td>\n",
       "    </tr>\n",
       "    <tr>\n",
       "      <th>27 </th>\n",
       "      <td> 28   -16.46 180.79   498 5.2       79</td>\n",
       "    </tr>\n",
       "    <tr>\n",
       "      <th>28 </th>\n",
       "      <td> 29   -20.97 181.47   582 4.5       25</td>\n",
       "    </tr>\n",
       "    <tr>\n",
       "      <th>29 </th>\n",
       "      <td> 30   -19.84 182.37   328 4.4       17</td>\n",
       "    </tr>\n",
       "    <tr>\n",
       "      <th>...</th>\n",
       "      <td>...</td>\n",
       "    </tr>\n",
       "    <tr>\n",
       "      <th>970</th>\n",
       "      <td> 971  -25.79 182.38   172 4.4       14</td>\n",
       "    </tr>\n",
       "    <tr>\n",
       "      <th>971</th>\n",
       "      <td> 972  -23.75 184.50    54 5.2       74</td>\n",
       "    </tr>\n",
       "    <tr>\n",
       "      <th>972</th>\n",
       "      <td> 973  -24.10 184.50    68 4.7       23</td>\n",
       "    </tr>\n",
       "    <tr>\n",
       "      <th>973</th>\n",
       "      <td> 974  -18.56 169.05   217 4.9       35</td>\n",
       "    </tr>\n",
       "    <tr>\n",
       "      <th>974</th>\n",
       "      <td> 975  -23.30 184.68   102 4.9       27</td>\n",
       "    </tr>\n",
       "    <tr>\n",
       "      <th>975</th>\n",
       "      <td> 976  -17.03 185.74   178 4.2       32</td>\n",
       "    </tr>\n",
       "    <tr>\n",
       "      <th>976</th>\n",
       "      <td> 977  -20.77 183.71   251 4.4       47</td>\n",
       "    </tr>\n",
       "    <tr>\n",
       "      <th>977</th>\n",
       "      <td> 978  -28.10 183.50    42 4.4       17</td>\n",
       "    </tr>\n",
       "    <tr>\n",
       "      <th>978</th>\n",
       "      <td> 979  -18.83 182.26   575 4.3       11</td>\n",
       "    </tr>\n",
       "    <tr>\n",
       "      <th>979</th>\n",
       "      <td> 980  -23.00 170.70    43 4.9       20</td>\n",
       "    </tr>\n",
       "    <tr>\n",
       "      <th>980</th>\n",
       "      <td> 981  -20.82 181.67   577 5.0       67</td>\n",
       "    </tr>\n",
       "    <tr>\n",
       "      <th>981</th>\n",
       "      <td> 982  -22.95 170.56    42 4.7       21</td>\n",
       "    </tr>\n",
       "    <tr>\n",
       "      <th>982</th>\n",
       "      <td> 983  -28.22 183.60    75 4.9       49</td>\n",
       "    </tr>\n",
       "    <tr>\n",
       "      <th>983</th>\n",
       "      <td> 984  -27.99 183.50    71 4.3       22</td>\n",
       "    </tr>\n",
       "    <tr>\n",
       "      <th>984</th>\n",
       "      <td> 985  -15.54 187.15    60 4.5       17</td>\n",
       "    </tr>\n",
       "    <tr>\n",
       "      <th>985</th>\n",
       "      <td> 986  -12.37 166.93   291 4.2       16</td>\n",
       "    </tr>\n",
       "    <tr>\n",
       "      <th>986</th>\n",
       "      <td> 987  -22.33 171.66   125 5.2       51</td>\n",
       "    </tr>\n",
       "    <tr>\n",
       "      <th>987</th>\n",
       "      <td> 988  -22.70 170.30    69 4.8       27</td>\n",
       "    </tr>\n",
       "    <tr>\n",
       "      <th>988</th>\n",
       "      <td> 989  -17.86 181.30   614 4.0       12</td>\n",
       "    </tr>\n",
       "    <tr>\n",
       "      <th>989</th>\n",
       "      <td> 990  -16.00 184.53   108 4.7       33</td>\n",
       "    </tr>\n",
       "    <tr>\n",
       "      <th>990</th>\n",
       "      <td> 991  -20.73 181.42   575 4.3       18</td>\n",
       "    </tr>\n",
       "    <tr>\n",
       "      <th>991</th>\n",
       "      <td> 992  -15.45 181.42   409 4.3       27</td>\n",
       "    </tr>\n",
       "    <tr>\n",
       "      <th>992</th>\n",
       "      <td> 993  -20.05 183.86   243 4.9       65</td>\n",
       "    </tr>\n",
       "    <tr>\n",
       "      <th>993</th>\n",
       "      <td> 994  -17.95 181.37   642 4.0       17</td>\n",
       "    </tr>\n",
       "    <tr>\n",
       "      <th>994</th>\n",
       "      <td> 995  -17.70 188.10    45 4.2       10</td>\n",
       "    </tr>\n",
       "    <tr>\n",
       "      <th>995</th>\n",
       "      <td> 996  -25.93 179.54   470 4.4       22</td>\n",
       "    </tr>\n",
       "    <tr>\n",
       "      <th>996</th>\n",
       "      <td> 997  -12.28 167.06   248 4.7       35</td>\n",
       "    </tr>\n",
       "    <tr>\n",
       "      <th>997</th>\n",
       "      <td> 998  -20.13 184.20   244 4.5       34</td>\n",
       "    </tr>\n",
       "    <tr>\n",
       "      <th>998</th>\n",
       "      <td> 999  -17.40 187.80    40 4.5       14</td>\n",
       "    </tr>\n",
       "    <tr>\n",
       "      <th>999</th>\n",
       "      <td> 1000 -21.59 170.56   165 6.0      119</td>\n",
       "    </tr>\n",
       "  </tbody>\n",
       "</table>\n",
       "<p>1000 rows × 1 columns</p>\n",
       "</div>"
      ],
      "text/plain": [
       "     Obs.    lat   long depth mag stations\n",
       "0    1    -20.42 181.62   562 4.8       41\n",
       "1    2    -20.62 181.03   650 4.2       15\n",
       "2    3    -26.00 184.10    42 5.4       43\n",
       "3    4    -17.97 181.66   626 4.1       19\n",
       "4    5    -20.42 181.96   649 4.0       11\n",
       "5    6    -19.68 184.31   195 4.0       12\n",
       "6    7    -11.70 166.10    82 4.8       43\n",
       "7    8    -28.11 181.93   194 4.4       15\n",
       "8    9    -28.74 181.74   211 4.7       35\n",
       "9    10   -17.47 179.59   622 4.3       19\n",
       "10   11   -21.44 180.69   583 4.4       13\n",
       "11   12   -12.26 167.00   249 4.6       16\n",
       "12   13   -18.54 182.11   554 4.4       19\n",
       "13   14   -21.00 181.66   600 4.4       10\n",
       "14   15   -20.70 169.92   139 6.1       94\n",
       "15   16   -15.94 184.95   306 4.3       11\n",
       "16   17   -13.64 165.96    50 6.0       83\n",
       "17   18   -17.83 181.50   590 4.5       21\n",
       "18   19   -23.50 179.78   570 4.4       13\n",
       "19   20   -22.63 180.31   598 4.4       18\n",
       "20   21   -20.84 181.16   576 4.5       17\n",
       "21   22   -10.98 166.32   211 4.2       12\n",
       "22   23   -23.30 180.16   512 4.4       18\n",
       "23   24   -30.20 182.00   125 4.7       22\n",
       "24   25   -19.66 180.28   431 5.4       57\n",
       "25   26   -17.94 181.49   537 4.0       15\n",
       "26   27   -14.72 167.51   155 4.6       18\n",
       "27   28   -16.46 180.79   498 5.2       79\n",
       "28   29   -20.97 181.47   582 4.5       25\n",
       "29   30   -19.84 182.37   328 4.4       17\n",
       "..                                     ...\n",
       "970  971  -25.79 182.38   172 4.4       14\n",
       "971  972  -23.75 184.50    54 5.2       74\n",
       "972  973  -24.10 184.50    68 4.7       23\n",
       "973  974  -18.56 169.05   217 4.9       35\n",
       "974  975  -23.30 184.68   102 4.9       27\n",
       "975  976  -17.03 185.74   178 4.2       32\n",
       "976  977  -20.77 183.71   251 4.4       47\n",
       "977  978  -28.10 183.50    42 4.4       17\n",
       "978  979  -18.83 182.26   575 4.3       11\n",
       "979  980  -23.00 170.70    43 4.9       20\n",
       "980  981  -20.82 181.67   577 5.0       67\n",
       "981  982  -22.95 170.56    42 4.7       21\n",
       "982  983  -28.22 183.60    75 4.9       49\n",
       "983  984  -27.99 183.50    71 4.3       22\n",
       "984  985  -15.54 187.15    60 4.5       17\n",
       "985  986  -12.37 166.93   291 4.2       16\n",
       "986  987  -22.33 171.66   125 5.2       51\n",
       "987  988  -22.70 170.30    69 4.8       27\n",
       "988  989  -17.86 181.30   614 4.0       12\n",
       "989  990  -16.00 184.53   108 4.7       33\n",
       "990  991  -20.73 181.42   575 4.3       18\n",
       "991  992  -15.45 181.42   409 4.3       27\n",
       "992  993  -20.05 183.86   243 4.9       65\n",
       "993  994  -17.95 181.37   642 4.0       17\n",
       "994  995  -17.70 188.10    45 4.2       10\n",
       "995  996  -25.93 179.54   470 4.4       22\n",
       "996  997  -12.28 167.06   248 4.7       35\n",
       "997  998  -20.13 184.20   244 4.5       34\n",
       "998  999  -17.40 187.80    40 4.5       14\n",
       "999  1000 -21.59 170.56   165 6.0      119\n",
       "\n",
       "[1000 rows x 1 columns]"
      ]
     },
     "execution_count": 62,
     "metadata": {},
     "output_type": "execute_result"
    }
   ],
   "source": [
    "data"
   ]
  },
  {
   "cell_type": "code",
   "execution_count": 72,
   "metadata": {
    "collapsed": false
   },
   "outputs": [],
   "source": [
    "new_data_file = open('earthquakes.csv', 'w')\n",
    "for line in open('fijiquakes.dat'):\n",
    "    new_data_file.write('{},{},{},{},{},{}\\n'.format(*line.split()))\n",
    "    \n",
    "    "
   ]
  },
  {
   "cell_type": "code",
   "execution_count": 74,
   "metadata": {
    "collapsed": false
   },
   "outputs": [],
   "source": [
    "data = pd.read_csv('earthquakes.csv')"
   ]
  },
  {
   "cell_type": "code",
   "execution_count": 75,
   "metadata": {
    "collapsed": true
   },
   "outputs": [],
   "source": [
    "data = data['mag']"
   ]
  },
  {
   "cell_type": "code",
   "execution_count": 78,
   "metadata": {
    "collapsed": false
   },
   "outputs": [],
   "source": [
    "from statsmodels.distributions.empirical_distribution import ECDF\n"
   ]
  },
  {
   "cell_type": "code",
   "execution_count": 79,
   "metadata": {
    "collapsed": true
   },
   "outputs": [],
   "source": [
    "model = ECDF(data)"
   ]
  },
  {
   "cell_type": "code",
   "execution_count": 81,
   "metadata": {
    "collapsed": false
   },
   "outputs": [
    {
     "data": {
      "text/plain": [
       "6.4000000000000004"
      ]
     },
     "execution_count": 81,
     "metadata": {},
     "output_type": "execute_result"
    }
   ],
   "source": [
    "max(data)"
   ]
  },
  {
   "cell_type": "code",
   "execution_count": 99,
   "metadata": {
    "collapsed": false
   },
   "outputs": [],
   "source": [
    "x = np.linspace(3.9, 6.4, 1000)"
   ]
  },
  {
   "cell_type": "code",
   "execution_count": 100,
   "metadata": {
    "collapsed": true
   },
   "outputs": [],
   "source": [
    "f_x = model(x)"
   ]
  },
  {
   "cell_type": "code",
   "execution_count": 102,
   "metadata": {
    "collapsed": false
   },
   "outputs": [
    {
     "data": {
      "image/png": "[encoded data removed]",
      "text/plain": [
       "<matplotlib.figure.Figure at 0x7f85a0e017d0>"
      ]
     },
     "metadata": {},
     "output_type": "display_data"
    }
   ],
   "source": [
    "plot(x, f_x)\n",
    "ylabel(r'$F(x)$')\n",
    "xlabel(r'$x$')\n",
    "grid(True)"
   ]
  },
  {
   "cell_type": "code",
   "execution_count": 98,
   "metadata": {
    "collapsed": false
   },
   "outputs": [
    {
     "data": {
      "text/plain": [
       "array([ 4.        ,  4.0024024 ,  4.0048048 ,  4.00720721,  4.00960961,\n",
       "        4.01201201,  4.01441441,  4.01681682,  4.01921922,  4.02162162,\n",
       "        4.02402402,  4.02642643,  4.02882883,  4.03123123,  4.03363363,\n",
       "        4.03603604,  4.03843844,  4.04084084,  4.04324324,  4.04564565,\n",
       "        4.04804805,  4.05045045,  4.05285285,  4.05525526,  4.05765766,\n",
       "        4.06006006,  4.06246246,  4.06486486,  4.06726727,  4.06966967,\n",
       "        4.07207207,  4.07447447,  4.07687688,  4.07927928,  4.08168168,\n",
       "        4.08408408,  4.08648649,  4.08888889,  4.09129129,  4.09369369,\n",
       "        4.0960961 ,  4.0984985 ,  4.1009009 ,  4.1033033 ,  4.10570571,\n",
       "        4.10810811,  4.11051051,  4.11291291,  4.11531532,  4.11771772,\n",
       "        4.12012012,  4.12252252,  4.12492492,  4.12732733,  4.12972973,\n",
       "        4.13213213,  4.13453453,  4.13693694,  4.13933934,  4.14174174,\n",
       "        4.14414414,  4.14654655,  4.14894895,  4.15135135,  4.15375375,\n",
       "        4.15615616,  4.15855856,  4.16096096,  4.16336336,  4.16576577,\n",
       "        4.16816817,  4.17057057,  4.17297297,  4.17537538,  4.17777778,\n",
       "        4.18018018,  4.18258258,  4.18498498,  4.18738739,  4.18978979,\n",
       "        4.19219219,  4.19459459,  4.196997  ,  4.1993994 ,  4.2018018 ,\n",
       "        4.2042042 ,  4.20660661,  4.20900901,  4.21141141,  4.21381381,\n",
       "        4.21621622,  4.21861862,  4.22102102,  4.22342342,  4.22582583,\n",
       "        4.22822823,  4.23063063,  4.23303303,  4.23543544,  4.23783784,\n",
       "        4.24024024,  4.24264264,  4.24504505,  4.24744745,  4.24984985,\n",
       "        4.25225225,  4.25465465,  4.25705706,  4.25945946,  4.26186186,\n",
       "        4.26426426,  4.26666667,  4.26906907,  4.27147147,  4.27387387,\n",
       "        4.27627628,  4.27867868,  4.28108108,  4.28348348,  4.28588589,\n",
       "        4.28828829,  4.29069069,  4.29309309,  4.2954955 ,  4.2978979 ,\n",
       "        4.3003003 ,  4.3027027 ,  4.30510511,  4.30750751,  4.30990991,\n",
       "        4.31231231,  4.31471471,  4.31711712,  4.31951952,  4.32192192,\n",
       "        4.32432432,  4.32672673,  4.32912913,  4.33153153,  4.33393393,\n",
       "        4.33633634,  4.33873874,  4.34114114,  4.34354354,  4.34594595,\n",
       "        4.34834835,  4.35075075,  4.35315315,  4.35555556,  4.35795796,\n",
       "        4.36036036,  4.36276276,  4.36516517,  4.36756757,  4.36996997,\n",
       "        4.37237237,  4.37477477,  4.37717718,  4.37957958,  4.38198198,\n",
       "        4.38438438,  4.38678679,  4.38918919,  4.39159159,  4.39399399,\n",
       "        4.3963964 ,  4.3987988 ,  4.4012012 ,  4.4036036 ,  4.40600601,\n",
       "        4.40840841,  4.41081081,  4.41321321,  4.41561562,  4.41801802,\n",
       "        4.42042042,  4.42282282,  4.42522523,  4.42762763,  4.43003003,\n",
       "        4.43243243,  4.43483483,  4.43723724,  4.43963964,  4.44204204,\n",
       "        4.44444444,  4.44684685,  4.44924925,  4.45165165,  4.45405405,\n",
       "        4.45645646,  4.45885886,  4.46126126,  4.46366366,  4.46606607,\n",
       "        4.46846847,  4.47087087,  4.47327327,  4.47567568,  4.47807808,\n",
       "        4.48048048,  4.48288288,  4.48528529,  4.48768769,  4.49009009,\n",
       "        4.49249249,  4.49489489,  4.4972973 ,  4.4996997 ,  4.5021021 ,\n",
       "        4.5045045 ,  4.50690691,  4.50930931,  4.51171171,  4.51411411,\n",
       "        4.51651652,  4.51891892,  4.52132132,  4.52372372,  4.52612613,\n",
       "        4.52852853,  4.53093093,  4.53333333,  4.53573574,  4.53813814,\n",
       "        4.54054054,  4.54294294,  4.54534535,  4.54774775,  4.55015015,\n",
       "        4.55255255,  4.55495495,  4.55735736,  4.55975976,  4.56216216,\n",
       "        4.56456456,  4.56696697,  4.56936937,  4.57177177,  4.57417417,\n",
       "        4.57657658,  4.57897898,  4.58138138,  4.58378378,  4.58618619,\n",
       "        4.58858859,  4.59099099,  4.59339339,  4.5957958 ,  4.5981982 ,\n",
       "        4.6006006 ,  4.603003  ,  4.60540541,  4.60780781,  4.61021021,\n",
       "        4.61261261,  4.61501502,  4.61741742,  4.61981982,  4.62222222,\n",
       "        4.62462462,  4.62702703,  4.62942943,  4.63183183,  4.63423423,\n",
       "        4.63663664,  4.63903904,  4.64144144,  4.64384384,  4.64624625,\n",
       "        4.64864865,  4.65105105,  4.65345345,  4.65585586,  4.65825826,\n",
       "        4.66066066,  4.66306306,  4.66546547,  4.66786787,  4.67027027,\n",
       "        4.67267267,  4.67507508,  4.67747748,  4.67987988,  4.68228228,\n",
       "        4.68468468,  4.68708709,  4.68948949,  4.69189189,  4.69429429,\n",
       "        4.6966967 ,  4.6990991 ,  4.7015015 ,  4.7039039 ,  4.70630631,\n",
       "        4.70870871,  4.71111111,  4.71351351,  4.71591592,  4.71831832,\n",
       "        4.72072072,  4.72312312,  4.72552553,  4.72792793,  4.73033033,\n",
       "        4.73273273,  4.73513514,  4.73753754,  4.73993994,  4.74234234,\n",
       "        4.74474474,  4.74714715,  4.74954955,  4.75195195,  4.75435435,\n",
       "        4.75675676,  4.75915916,  4.76156156,  4.76396396,  4.76636637,\n",
       "        4.76876877,  4.77117117,  4.77357357,  4.77597598,  4.77837838,\n",
       "        4.78078078,  4.78318318,  4.78558559,  4.78798799,  4.79039039,\n",
       "        4.79279279,  4.7951952 ,  4.7975976 ,  4.8       ,  4.8024024 ,\n",
       "        4.8048048 ,  4.80720721,  4.80960961,  4.81201201,  4.81441441,\n",
       "        4.81681682,  4.81921922,  4.82162162,  4.82402402,  4.82642643,\n",
       "        4.82882883,  4.83123123,  4.83363363,  4.83603604,  4.83843844,\n",
       "        4.84084084,  4.84324324,  4.84564565,  4.84804805,  4.85045045,\n",
       "        4.85285285,  4.85525526,  4.85765766,  4.86006006,  4.86246246,\n",
       "        4.86486486,  4.86726727,  4.86966967,  4.87207207,  4.87447447,\n",
       "        4.87687688,  4.87927928,  4.88168168,  4.88408408,  4.88648649,\n",
       "        4.88888889,  4.89129129,  4.89369369,  4.8960961 ,  4.8984985 ,\n",
       "        4.9009009 ,  4.9033033 ,  4.90570571,  4.90810811,  4.91051051,\n",
       "        4.91291291,  4.91531532,  4.91771772,  4.92012012,  4.92252252,\n",
       "        4.92492492,  4.92732733,  4.92972973,  4.93213213,  4.93453453,\n",
       "        4.93693694,  4.93933934,  4.94174174,  4.94414414,  4.94654655,\n",
       "        4.94894895,  4.95135135,  4.95375375,  4.95615616,  4.95855856,\n",
       "        4.96096096,  4.96336336,  4.96576577,  4.96816817,  4.97057057,\n",
       "        4.97297297,  4.97537538,  4.97777778,  4.98018018,  4.98258258,\n",
       "        4.98498498,  4.98738739,  4.98978979,  4.99219219,  4.99459459,\n",
       "        4.996997  ,  4.9993994 ,  5.0018018 ,  5.0042042 ,  5.00660661,\n",
       "        5.00900901,  5.01141141,  5.01381381,  5.01621622,  5.01861862,\n",
       "        5.02102102,  5.02342342,  5.02582583,  5.02822823,  5.03063063,\n",
       "        5.03303303,  5.03543544,  5.03783784,  5.04024024,  5.04264264,\n",
       "        5.04504505,  5.04744745,  5.04984985,  5.05225225,  5.05465465,\n",
       "        5.05705706,  5.05945946,  5.06186186,  5.06426426,  5.06666667,\n",
       "        5.06906907,  5.07147147,  5.07387387,  5.07627628,  5.07867868,\n",
       "        5.08108108,  5.08348348,  5.08588589,  5.08828829,  5.09069069,\n",
       "        5.09309309,  5.0954955 ,  5.0978979 ,  5.1003003 ,  5.1027027 ,\n",
       "        5.10510511,  5.10750751,  5.10990991,  5.11231231,  5.11471471,\n",
       "        5.11711712,  5.11951952,  5.12192192,  5.12432432,  5.12672673,\n",
       "        5.12912913,  5.13153153,  5.13393393,  5.13633634,  5.13873874,\n",
       "        5.14114114,  5.14354354,  5.14594595,  5.14834835,  5.15075075,\n",
       "        5.15315315,  5.15555556,  5.15795796,  5.16036036,  5.16276276,\n",
       "        5.16516517,  5.16756757,  5.16996997,  5.17237237,  5.17477477,\n",
       "        5.17717718,  5.17957958,  5.18198198,  5.18438438,  5.18678679,\n",
       "        5.18918919,  5.19159159,  5.19399399,  5.1963964 ,  5.1987988 ,\n",
       "        5.2012012 ,  5.2036036 ,  5.20600601,  5.20840841,  5.21081081,\n",
       "        5.21321321,  5.21561562,  5.21801802,  5.22042042,  5.22282282,\n",
       "        5.22522523,  5.22762763,  5.23003003,  5.23243243,  5.23483483,\n",
       "        5.23723724,  5.23963964,  5.24204204,  5.24444444,  5.24684685,\n",
       "        5.24924925,  5.25165165,  5.25405405,  5.25645646,  5.25885886,\n",
       "        5.26126126,  5.26366366,  5.26606607,  5.26846847,  5.27087087,\n",
       "        5.27327327,  5.27567568,  5.27807808,  5.28048048,  5.28288288,\n",
       "        5.28528529,  5.28768769,  5.29009009,  5.29249249,  5.29489489,\n",
       "        5.2972973 ,  5.2996997 ,  5.3021021 ,  5.3045045 ,  5.30690691,\n",
       "        5.30930931,  5.31171171,  5.31411411,  5.31651652,  5.31891892,\n",
       "        5.32132132,  5.32372372,  5.32612613,  5.32852853,  5.33093093,\n",
       "        5.33333333,  5.33573574,  5.33813814,  5.34054054,  5.34294294,\n",
       "        5.34534535,  5.34774775,  5.35015015,  5.35255255,  5.35495495,\n",
       "        5.35735736,  5.35975976,  5.36216216,  5.36456456,  5.36696697,\n",
       "        5.36936937,  5.37177177,  5.37417417,  5.37657658,  5.37897898,\n",
       "        5.38138138,  5.38378378,  5.38618619,  5.38858859,  5.39099099,\n",
       "        5.39339339,  5.3957958 ,  5.3981982 ,  5.4006006 ,  5.403003  ,\n",
       "        5.40540541,  5.40780781,  5.41021021,  5.41261261,  5.41501502,\n",
       "        5.41741742,  5.41981982,  5.42222222,  5.42462462,  5.42702703,\n",
       "        5.42942943,  5.43183183,  5.43423423,  5.43663664,  5.43903904,\n",
       "        5.44144144,  5.44384384,  5.44624625,  5.44864865,  5.45105105,\n",
       "        5.45345345,  5.45585586,  5.45825826,  5.46066066,  5.46306306,\n",
       "        5.46546547,  5.46786787,  5.47027027,  5.47267267,  5.47507508,\n",
       "        5.47747748,  5.47987988,  5.48228228,  5.48468468,  5.48708709,\n",
       "        5.48948949,  5.49189189,  5.49429429,  5.4966967 ,  5.4990991 ,\n",
       "        5.5015015 ,  5.5039039 ,  5.50630631,  5.50870871,  5.51111111,\n",
       "        5.51351351,  5.51591592,  5.51831832,  5.52072072,  5.52312312,\n",
       "        5.52552553,  5.52792793,  5.53033033,  5.53273273,  5.53513514,\n",
       "        5.53753754,  5.53993994,  5.54234234,  5.54474474,  5.54714715,\n",
       "        5.54954955,  5.55195195,  5.55435435,  5.55675676,  5.55915916,\n",
       "        5.56156156,  5.56396396,  5.56636637,  5.56876877,  5.57117117,\n",
       "        5.57357357,  5.57597598,  5.57837838,  5.58078078,  5.58318318,\n",
       "        5.58558559,  5.58798799,  5.59039039,  5.59279279,  5.5951952 ,\n",
       "        5.5975976 ,  5.6       ,  5.6024024 ,  5.6048048 ,  5.60720721,\n",
       "        5.60960961,  5.61201201,  5.61441441,  5.61681682,  5.61921922,\n",
       "        5.62162162,  5.62402402,  5.62642643,  5.62882883,  5.63123123,\n",
       "        5.63363363,  5.63603604,  5.63843844,  5.64084084,  5.64324324,\n",
       "        5.64564565,  5.64804805,  5.65045045,  5.65285285,  5.65525526,\n",
       "        5.65765766,  5.66006006,  5.66246246,  5.66486486,  5.66726727,\n",
       "        5.66966967,  5.67207207,  5.67447447,  5.67687688,  5.67927928,\n",
       "        5.68168168,  5.68408408,  5.68648649,  5.68888889,  5.69129129,\n",
       "        5.69369369,  5.6960961 ,  5.6984985 ,  5.7009009 ,  5.7033033 ,\n",
       "        5.70570571,  5.70810811,  5.71051051,  5.71291291,  5.71531532,\n",
       "        5.71771772,  5.72012012,  5.72252252,  5.72492492,  5.72732733,\n",
       "        5.72972973,  5.73213213,  5.73453453,  5.73693694,  5.73933934,\n",
       "        5.74174174,  5.74414414,  5.74654655,  5.74894895,  5.75135135,\n",
       "        5.75375375,  5.75615616,  5.75855856,  5.76096096,  5.76336336,\n",
       "        5.76576577,  5.76816817,  5.77057057,  5.77297297,  5.77537538,\n",
       "        5.77777778,  5.78018018,  5.78258258,  5.78498498,  5.78738739,\n",
       "        5.78978979,  5.79219219,  5.79459459,  5.796997  ,  5.7993994 ,\n",
       "        5.8018018 ,  5.8042042 ,  5.80660661,  5.80900901,  5.81141141,\n",
       "        5.81381381,  5.81621622,  5.81861862,  5.82102102,  5.82342342,\n",
       "        5.82582583,  5.82822823,  5.83063063,  5.83303303,  5.83543544,\n",
       "        5.83783784,  5.84024024,  5.84264264,  5.84504505,  5.84744745,\n",
       "        5.84984985,  5.85225225,  5.85465465,  5.85705706,  5.85945946,\n",
       "        5.86186186,  5.86426426,  5.86666667,  5.86906907,  5.87147147,\n",
       "        5.87387387,  5.87627628,  5.87867868,  5.88108108,  5.88348348,\n",
       "        5.88588589,  5.88828829,  5.89069069,  5.89309309,  5.8954955 ,\n",
       "        5.8978979 ,  5.9003003 ,  5.9027027 ,  5.90510511,  5.90750751,\n",
       "        5.90990991,  5.91231231,  5.91471471,  5.91711712,  5.91951952,\n",
       "        5.92192192,  5.92432432,  5.92672673,  5.92912913,  5.93153153,\n",
       "        5.93393393,  5.93633634,  5.93873874,  5.94114114,  5.94354354,\n",
       "        5.94594595,  5.94834835,  5.95075075,  5.95315315,  5.95555556,\n",
       "        5.95795796,  5.96036036,  5.96276276,  5.96516517,  5.96756757,\n",
       "        5.96996997,  5.97237237,  5.97477477,  5.97717718,  5.97957958,\n",
       "        5.98198198,  5.98438438,  5.98678679,  5.98918919,  5.99159159,\n",
       "        5.99399399,  5.9963964 ,  5.9987988 ,  6.0012012 ,  6.0036036 ,\n",
       "        6.00600601,  6.00840841,  6.01081081,  6.01321321,  6.01561562,\n",
       "        6.01801802,  6.02042042,  6.02282282,  6.02522523,  6.02762763,\n",
       "        6.03003003,  6.03243243,  6.03483483,  6.03723724,  6.03963964,\n",
       "        6.04204204,  6.04444444,  6.04684685,  6.04924925,  6.05165165,\n",
       "        6.05405405,  6.05645646,  6.05885886,  6.06126126,  6.06366366,\n",
       "        6.06606607,  6.06846847,  6.07087087,  6.07327327,  6.07567568,\n",
       "        6.07807808,  6.08048048,  6.08288288,  6.08528529,  6.08768769,\n",
       "        6.09009009,  6.09249249,  6.09489489,  6.0972973 ,  6.0996997 ,\n",
       "        6.1021021 ,  6.1045045 ,  6.10690691,  6.10930931,  6.11171171,\n",
       "        6.11411411,  6.11651652,  6.11891892,  6.12132132,  6.12372372,\n",
       "        6.12612613,  6.12852853,  6.13093093,  6.13333333,  6.13573574,\n",
       "        6.13813814,  6.14054054,  6.14294294,  6.14534535,  6.14774775,\n",
       "        6.15015015,  6.15255255,  6.15495495,  6.15735736,  6.15975976,\n",
       "        6.16216216,  6.16456456,  6.16696697,  6.16936937,  6.17177177,\n",
       "        6.17417417,  6.17657658,  6.17897898,  6.18138138,  6.18378378,\n",
       "        6.18618619,  6.18858859,  6.19099099,  6.19339339,  6.1957958 ,\n",
       "        6.1981982 ,  6.2006006 ,  6.203003  ,  6.20540541,  6.20780781,\n",
       "        6.21021021,  6.21261261,  6.21501502,  6.21741742,  6.21981982,\n",
       "        6.22222222,  6.22462462,  6.22702703,  6.22942943,  6.23183183,\n",
       "        6.23423423,  6.23663664,  6.23903904,  6.24144144,  6.24384384,\n",
       "        6.24624625,  6.24864865,  6.25105105,  6.25345345,  6.25585586,\n",
       "        6.25825826,  6.26066066,  6.26306306,  6.26546547,  6.26786787,\n",
       "        6.27027027,  6.27267267,  6.27507508,  6.27747748,  6.27987988,\n",
       "        6.28228228,  6.28468468,  6.28708709,  6.28948949,  6.29189189,\n",
       "        6.29429429,  6.2966967 ,  6.2990991 ,  6.3015015 ,  6.3039039 ,\n",
       "        6.30630631,  6.30870871,  6.31111111,  6.31351351,  6.31591592,\n",
       "        6.31831832,  6.32072072,  6.32312312,  6.32552553,  6.32792793,\n",
       "        6.33033033,  6.33273273,  6.33513514,  6.33753754,  6.33993994,\n",
       "        6.34234234,  6.34474474,  6.34714715,  6.34954955,  6.35195195,\n",
       "        6.35435435,  6.35675676,  6.35915916,  6.36156156,  6.36396396,\n",
       "        6.36636637,  6.36876877,  6.37117117,  6.37357357,  6.37597598,\n",
       "        6.37837838,  6.38078078,  6.38318318,  6.38558559,  6.38798799,\n",
       "        6.39039039,  6.39279279,  6.3951952 ,  6.3975976 ,  6.4       ])"
      ]
     },
     "execution_count": 98,
     "metadata": {},
     "output_type": "execute_result"
    }
   ],
   "source": [
    "unique(x)"
   ]
  },
  {
   "cell_type": "code",
   "execution_count": null,
   "metadata": {
    "collapsed": true
   },
   "outputs": [],
   "source": []
  }
 ],
 "metadata": {
  "kernelspec": {
   "display_name": "Python 2",
   "language": "python",
   "name": "python2"
  },
  "language_info": {
   "codemirror_mode": {
    "name": "ipython",
    "version": 2
   },
   "file_extension": ".py",
   "mimetype": "text/x-python",
   "name": "python",
   "nbconvert_exporter": "python",
   "pygments_lexer": "ipython2",
   "version": "2.7.8"
  }
 },
 "nbformat": 4,
 "nbformat_minor": 0
}
