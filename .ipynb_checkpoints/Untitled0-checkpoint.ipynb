{
 "metadata": {
  "name": "",
  "signature": "sha256:7a9091e0ef47929474ebb06b15b0f2067860db0c21f0e4ca143e366be1fd14c6"
 },
 "nbformat": 3,
 "nbformat_minor": 0,
 "worksheets": []
}