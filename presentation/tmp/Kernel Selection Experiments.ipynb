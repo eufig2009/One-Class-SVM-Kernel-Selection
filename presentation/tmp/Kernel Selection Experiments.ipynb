{
 "metadata": {
  "name": "",
  "signature": "sha256:55eb5c29e5bd7aa72b9bd20be0178063d91197fdb32ae15876b4203113d11f6f"
 },
 "nbformat": 3,
 "nbformat_minor": 0,
 "worksheets": [
  {
   "cells": [
    {
     "cell_type": "code",
     "collapsed": false,
     "input": [
      "!python setup.py build_ext --inplace"
     ],
     "language": "python",
     "metadata": {},
     "outputs": [
      {
       "output_type": "stream",
       "stream": "stdout",
       "text": [
        "running build_ext\r\n"
       ]
      }
     ],
     "prompt_number": 1
    },
    {
     "cell_type": "code",
     "collapsed": false,
     "input": [
      "%pylab inline\n",
      "from sklearn.datasets import make_classification\n",
      "import pandas as pd\n",
      "from sklearn.svm import SVDD, OneClassSVM\n",
      "from imbalanced import SMOTE\n",
      "from pyDOE import lhs\n",
      "from sklearn.cross_validation import train_test_split\n",
      "from sklearn.metrics import roc_auc_score\n",
      "from sklearn.metrics.pairwise import pairwise_distances\n",
      "from scipy.spatial import KDTree\n",
      "from middle_values import middle_values\n",
      "from sklearn.cross_validation import KFold"
     ],
     "language": "python",
     "metadata": {},
     "outputs": [
      {
       "output_type": "stream",
       "stream": "stdout",
       "text": [
        "Populating the interactive namespace from numpy and matplotlib\n"
       ]
      }
     ],
     "prompt_number": 14
    },
    {
     "cell_type": "code",
     "collapsed": false,
     "input": [
      "def validate_classifier_by_random_points(clf, train_x, size=10000):\n",
      "    clf.fit(train_x)\n",
      "    positive_points = SMOTE(train_x, k=10,n_samples=size)\n",
      "    #negative_points = rand(size, train_x.shape[1]) * std(train_x)\n",
      "    error = (mean(clf.predict(positive_points) == -1) - clf.nu) ** 2\n",
      "    print error\n",
      "    return error"
     ],
     "language": "python",
     "metadata": {},
     "outputs": [],
     "prompt_number": 3
    },
    {
     "cell_type": "code",
     "collapsed": false,
     "input": [
      "def parameters_selection_by_random_points(data, weights=[0.99, 0.01]):\n",
      "    all_gammas = 2 ** linspace(-10, 3, 20)\n",
      "    all_errors = []\n",
      "    for index, gamma in enumerate(all_gammas):\n",
      "        clf = OneClassSVM(nu=0.01, gamma=gamma)\n",
      "        err = validate_classifier_by_random_points(clf, data)\n",
      "        all_errors.append(err)\n",
      "    \n",
      "    index = argmin(all_errors)\n",
      "    return all_gammas[index], all_errors"
     ],
     "language": "python",
     "metadata": {},
     "outputs": [],
     "prompt_number": 4
    },
    {
     "cell_type": "markdown",
     "metadata": {},
     "source": [
      "1) Separate train, validation, test\n",
      "\n",
      "2) Choose best parameter\n",
      "\n",
      "3) Validate on test"
     ]
    },
    {
     "cell_type": "code",
     "collapsed": false,
     "input": [
      "def experiment_pipe(parameters_selector, dim=10, outlier_fraction = 0.01):\n",
      "    data = make_classification(n_samples=10000, n_features =dim,n_redundant=0, n_classes=2, weights=[0.00])[0]\n",
      "    outlier_count = int(len(data) * outlier_fraction)\n",
      "    second_class = lhs(data.shape[1], samples=outlier_count) * std(data)\n",
      "    labels = array([1] * len(data) + [-1] * len(second_class))\n",
      "    data = r_[data, second_class]\n",
      "    train, test, train_y, test_y = train_test_split(data, labels, train_size=0.1)\n",
      "    all_gammas = 2 ** linspace(-10, 3, 20)\n",
      "    all_errors_positive = []\n",
      "    all_errors_negative = []\n",
      "    for gamma in all_gammas:\n",
      "        clf.gamma = gamma\n",
      "        clf.fit(test_x)\n",
      "        prediction = clf.predict(test_x)\n",
      "        errors = prediction == test_y\n",
      "        all_errors_positive.append(mean(errors[test_y == 1]))\n",
      "        all_errors_negative.append(mean(errors[test_y == -1]))\n",
      "    #bestGamma = parameters_selector(train)\n",
      "    #print \"Best gamma = {}\".format(bestGamma)\n",
      "    #clf = OneClassSVM(nu=outlier_fraction, gamma=bestGamma)\n",
      "    #clf.fit(train)\n",
      "    #prediction = clf.predict(test)\n",
      "    plot(all_gammas, all_errors_positive, label='Miss inlier')\n",
      "    plot(all_gammas, all_errors_negative, label='Miss outlier')\n",
      "    xlabel('Gamma')\n",
      "    ylabel('Error')\n",
      "    grid(True)\n",
      "    return mean(prediction != test_y)"
     ],
     "language": "python",
     "metadata": {},
     "outputs": [],
     "prompt_number": 5
    },
    {
     "cell_type": "code",
     "collapsed": false,
     "input": [
      "def kernel_metric(data, gamma):\n",
      "    distance = pairwise_distances(data)\n",
      "    distance = distance * distance\n",
      "    kernel_matrix = exp(-gamma * distance)\n",
      "    kernel_matrix -= eye(kernel_matrix.shape[0])\n",
      "    reguarization = 0.001\n",
      "    return -var(kernel_matrix) / (mean(kernel_matrix) + reguarization)"
     ],
     "language": "python",
     "metadata": {},
     "outputs": [],
     "prompt_number": 6
    },
    {
     "cell_type": "code",
     "collapsed": false,
     "input": [
      "def select_best_kernel_metric(data):\n",
      "    all_gammas = 2 ** linspace(-10, 3, 20)\n",
      "    all_errors = [kernel_metric(data, gamma) for gamma in all_gammas]\n",
      "    index = argmin(all_errors)\n",
      "    return all_gammas[index], all_errors"
     ],
     "language": "python",
     "metadata": {},
     "outputs": [],
     "prompt_number": 7
    },
    {
     "cell_type": "code",
     "collapsed": false,
     "input": [
      "def check_if_loose(gamma, train_data, D, theta_1):\n",
      "    # Fitting model\n",
      "    clf = OneClassSVM(nu=0.01, gamma=gamma)\n",
      "    clf.fit(train_data)\n",
      "    # Building set of pairs X_1\n",
      "    predictions = clf.predict(train_data) == 1\n",
      "    positive_examples = train_data[predictions.nonzero()[0],:]\n",
      "    X_1 = pairwise_distances(positive_examples) > theta_1\n",
      "    tree = KDTree(positive_examples)\n",
      "    # Building set of middle points\n",
      "    mid_points = middle_values(positive_examples, positive_examples)\n",
      "    indices = ones(mid_points.shape)\n",
      "    indices = indices * X_1[:, :, newaxis]\n",
      "    indices = indices.astype(bool)\n",
      "    mid_points = mid_points[indices]\n",
      "    mid_points = mid_points.reshape([len(mid_points) / len(train_data[0]), len(train_data[0])])\n",
      "    # In class mid points\n",
      "    predictions = clf.predict(mid_points) > 0\n",
      "    positive_mid_points = mid_points[predictions.nonzero()[0], :]\n",
      "    # In ball points for middles\n",
      "    in_ball_points = tree.query_ball_point(positive_mid_points, D / 2)\n",
      "    # __contain__ method d crazy things with numpy arrays have to iterate\n",
      "    for point in in_ball_points:\n",
      "        if not point:\n",
      "            break\n",
      "    else:\n",
      "        return True\n",
      "    return False  "
     ],
     "language": "python",
     "metadata": {},
     "outputs": [],
     "prompt_number": 8
    },
    {
     "cell_type": "code",
     "collapsed": false,
     "input": [
      "def check_if_tight(gamma, train_data, D, theta_2):\n",
      "    # Fitting model\n",
      "    clf = OneClassSVM(nu=0.01, gamma=gamma)\n",
      "    clf.fit(train_data)\n",
      "    # Selecting in class points\n",
      "    predictions = clf.predict(train_data) == 1\n",
      "    positive_examples = train_data[predictions.nonzero()[0],:]\n",
      "    # Selecting points from X_2 set\n",
      "    X_2 = pairwise_distances(positive_examples) < theta_2\n",
      "    # Calculating middle points for pars in X_2\n",
      "    mid_points = middle_values(positive_examples, positive_examples)\n",
      "    indices = ones(mid_points.shape)\n",
      "    indices = indices * X_2[:, :, newaxis]\n",
      "    indices = indices.astype(bool)\n",
      "    mid_points = mid_points[indices]\n",
      "    mid_points = mid_points.reshape([len(mid_points) / len(train_data[0]), len(train_data[0])])\n",
      "    # Predict values for middle points\n",
      "    middle_prediction = clf.predict(mid_points)\n",
      "    # Searching for outlier\n",
      "    if -1 in middle_prediction:\n",
      "        return True\n",
      "    else:\n",
      "        return False"
     ],
     "language": "python",
     "metadata": {},
     "outputs": [],
     "prompt_number": 9
    },
    {
     "cell_type": "code",
     "collapsed": false,
     "input": [
      "def find_best_d(train_x):\n",
      "    tree = KDTree(train_x)\n",
      "    query_results = tree.query(train_x, 2)[0][:, 1]\n",
      "    return query_results.max()"
     ],
     "language": "python",
     "metadata": {},
     "outputs": [],
     "prompt_number": 10
    },
    {
     "cell_type": "code",
     "collapsed": false,
     "input": [
      "def select_best_geometry(data):\n",
      "    all_gammas = 2 ** linspace(-10, 3, 20)\n",
      "    all_errors = []\n",
      "    D = find_best_d(data)\n",
      "    for index, gamma in enumerate(all_gammas):\n",
      "        loose = check_if_loose(gamma, data, D,  0.1)\n",
      "        tight = check_if_tight(gamma, data, D,  0.1)\n",
      "        if not(loose or tight):\n",
      "            return gamma\n",
      "    return None"
     ],
     "language": "python",
     "metadata": {},
     "outputs": [],
     "prompt_number": 11
    },
    {
     "cell_type": "code",
     "collapsed": false,
     "input": [
      "def select_best_support_vectors(data, nu=0.01, all_gammas=2 ** arange(-10, 10, 1)):\n",
      "    all_errors = []\n",
      "    for gamma in all_gammas:\n",
      "        clf = OneClassSVM(nu=nu, gamma=gamma)\n",
      "        clf.fit(data)\n",
      "        prediction = clf.predict(data)\n",
      "        out_of_class_count = sum(prediction == -1)\n",
      "        support_vectors_count = len(clf.support_vectors_)\n",
      "        error = (float(out_of_class_count) / len(data) - nu) ** 2\n",
      "        error += (float(support_vectors_count) / len(data) -nu) ** 2\n",
      "        all_errors.append(error)\n",
      "    index = argmin(all_errors)\n",
      "    return all_gammas[index], all_errors\n",
      "        "
     ],
     "language": "python",
     "metadata": {},
     "outputs": [],
     "prompt_number": 12
    },
    {
     "cell_type": "code",
     "collapsed": false,
     "input": [
      "def build_plot(parameters_estimator):\n",
      "    dimensions = range(5, 50, 5)\n",
      "    all_errors = [experiment_pipe(parameters_estimator, dim) for dim in dimensions]\n",
      "    return all_errors"
     ],
     "language": "python",
     "metadata": {},
     "outputs": [],
     "prompt_number": 13
    },
    {
     "cell_type": "code",
     "collapsed": false,
     "input": [
      "def select_best_outlier_fraction_cross_val(data, nu=0.05, all_gammas=2 ** arange(-10, 10, 50), folds_count=7):\n",
      "    all_errors = []\n",
      "    kf_iterator = KFold(len(data), n_folds=folds_count)\n",
      "    for gamma in all_gammas:\n",
      "        error = 0\n",
      "        for train, test in kf_iterator:\n",
      "            train_data = data[train,:]\n",
      "            test_data = data[test,:]\n",
      "            clf = OneClassSVM(nu=nu, gamma=gamma)\n",
      "            clf.fit(train_data)\n",
      "            prediction = clf.predict(test_data)\n",
      "            outlier_fraction = mean(prediction == -1)\n",
      "            error += (nu - outlier_fraction) ** 2 + (float(clf.support_vectors_.shape[0]) / len(data) - nu) ** 2\n",
      "        all_errors.append(error / folds_count)\n",
      "    best_index = pd.Series(all_errors).pct_change().argmax() - 1\n",
      "    return int(best_index), all_errors\n",
      "            \n",
      "            \n",
      "        "
     ],
     "language": "python",
     "metadata": {},
     "outputs": [],
     "prompt_number": 50
    },
    {
     "cell_type": "code",
     "collapsed": false,
     "input": [
      "def slice_probability_spavce_selection(data, nu=0.05, all_gammas=2 ** linspace(-10, 10, 50), \n",
      "                                       rho=0.05, outlier_distribution = rand, folds_count=7):\n",
      "    kf_iterator = KFold(len(data), n_folds=folds_count)\n",
      "    all_errors = []\n",
      "    for gamma in all_gammas:\n",
      "        error = 0.0\n",
      "        clf = OneClassSVM(nu=nu, gamma=gamma)\n",
      "        for train, test in kf_iterator:\n",
      "            train_data = data[train,:]\n",
      "            test_data = data[test,:]\n",
      "            clf = OneClassSVM(nu=nu, gamma=gamma)\n",
      "            clf.fit(train_data)\n",
      "            prediction = clf.predict(test_data)\n",
      "            inlier_metric_part = mean(prediction == -1)\n",
      "            inlier_metric_part = inlier_metric_part / (1 + rho) / len(data)\n",
      "            outliers = outlier_distribution(*data.shape) - 0.5\n",
      "            outliers *= 8 * std(data)\n",
      "            outlier_metric_part = mean(clf.predict(outliers) == 1) * rho / (1 + rho) / len(outliers)\n",
      "            error += inlier_metric_part + outlier_metric_part\n",
      "        all_errors.append(error / folds_count)\n",
      "    best_index = pd.Series(all_errors).pct_change().argmax() - 1\n",
      "    return int(best_index), all_errors\n",
      "        \n",
      "    "
     ],
     "language": "python",
     "metadata": {},
     "outputs": [],
     "prompt_number": 85
    },
    {
     "cell_type": "code",
     "collapsed": false,
     "input": [
      "dimensions = range(5, 50, 5)\n",
      "plot(dimensions, kernel_metrics, label='Kernel Selection')\n",
      "plot(dimensions, generating_metrics, label='Random Points Generations')\n",
      "plot(dimensions, support_vectors, label='Supports Count Selection')\n",
      "xlabel('Dimensions')\n",
      "ylabel('Error')\n",
      "legend(loc='best')\n",
      "grid(True)"
     ],
     "language": "python",
     "metadata": {},
     "outputs": []
    },
    {
     "cell_type": "code",
     "collapsed": false,
     "input": [
      "support_vectors = build_plot(select_best_support_vectors)"
     ],
     "language": "python",
     "metadata": {},
     "outputs": []
    },
    {
     "cell_type": "raw",
     "metadata": {},
     "source": [
      "gamma_selection_technique = select_best_kernel_metric\n",
      "\n",
      "for data_set_name in os.listdir('./csv_data_set'):\n",
      "    positive_errors = []\n",
      "    negative_errors = []\n",
      "    auc_score = []\n",
      "    data = pd.read_csv('./csv_data_set/{}'.format(data_set_name))\n",
      "    all_x = data.drop('label', axis=1).as_matrix()\n",
      "    all_y = (data['label'] == 'target') * 2 - 1\n",
      "    train_x, test_x, train_y, test_y = train_test_split(all_x, all_y, train_size = 0.66)\n",
      "    gamma = gamma_selection_technique(train_x)\n",
      "    nu = mean(data['label'] == 'outlier')\n",
      "    clf = OneClassSVM(nu=nu, gamma=gamma)\n",
      "    clf.fit(train_x)\n",
      "    prediction = clf.predict(test_x)\n",
      "    errors = prediction != test_y\n",
      "    errors_on_positive_examples = mean(errors * (test_y == 1))\n",
      "    errors_on_negative_examples = mean(errors * (test_y == 0))\n",
      "    all_errors = mean(errors)\n",
      "    try:\n",
      "        auc_metric = roc_auc_score(test_y, prediction)\n",
      "    except:\n",
      "        auc_mtric = NaN \n",
      "    auc_metric = max(auc_metric, 1 - auc_metric)\n",
      "    positive_errors.append(errors_on_positive_examples)\n",
      "    negative_errors.append(errors_on_negative_examples)\n",
      "    auc_score.append(auc_metric)\n",
      "    \n",
      "    print errors_on_positive_examples, errors_on_negative_examplse, auc_metric\n",
      "\n",
      "result = pd.DataFrame.from_items([('Data Set', os.listdir('./csv_data_set')), ('False Alarm', negative_errors), \n",
      "                                  ('Miss Outlier', positive_errors), ('AUC', auc_score)])\n",
      "\n",
      "    \n",
      "    "
     ]
    },
    {
     "cell_type": "raw",
     "metadata": {},
     "source": [
      "\n"
     ]
    },
    {
     "cell_type": "code",
     "collapsed": false,
     "input": [
      "print negative_errors\n",
      "#result = pd.DataFrame.from_items([('Data Set', os.listdir('./csv_data_set')), ('False Alarm', negative_errors), \n",
      "                                  #('Miss Outlier', positive_errors), ('AUC', auc_score)])"
     ],
     "language": "python",
     "metadata": {},
     "outputs": [
      {
       "output_type": "stream",
       "stream": "stdout",
       "text": [
        "[0.0]\n"
       ]
      }
     ],
     "prompt_number": 103
    },
    {
     "cell_type": "markdown",
     "metadata": {},
     "source": [
      "\u0413\u0440\u0430\u0444\u0438\u043a \u0437\u0430\u0432\u0438\u0441\u0438\u043c\u043e\u0441\u0442\u0438 \u043e\u0448\u0438\u0431\u043a\u0438 \u043d\u0430 \u0442\u0435\u0441\u0442\u043e\u0432\u043e\u0439 \u0432\u044b\u0431\u043e\u0440\u043a\u0438 \u043e\u0442 $\\gamma$"
     ]
    },
    {
     "cell_type": "code",
     "collapsed": false,
     "input": [
      "nu = 0.1\n",
      "clf = OneClassSVM(nu=nu)\n",
      "#data = make_classification(n_samples=100000, n_features =10,n_redundant=0, n_classes=2, weights=[0.00])[0]\n",
      "data = randn(10000, 2)\n",
      "outlier_count = int(len(data) * nu)\n",
      "second_class = (lhs(data.shape[1], samples=outlier_count) - mean(data)) * (data.max() - data.min()) \n",
      "labels = array([1] * len(data) + [-1] * len(second_class))\n",
      "data = r_[data, second_class]\n",
      "train, test, train_y, test_y = train_test_split(data, labels, train_size=0.1)\n",
      "all_gammas = 2 ** linspace(-10, 3, 20)\n",
      "all_errors_positive = []\n",
      "all_errors_negative = []\n",
      "for gamma in all_gammas:\n",
      "    clf.gamma = gamma\n",
      "    clf.fit(test)\n",
      "    prediction = clf.predict(test)\n",
      "    errors = prediction == test_y\n",
      "    all_errors_positive.append(mean(errors[test_y == 1]))\n",
      "    all_errors_negative.append(mean(errors[test_y == -1]))\n",
      "    print all_errors_negative[-1], all_errors_positive[-1]\n",
      "    #bestGamma = parameters_selector(train)\n",
      "    #print \"Best gamma = {}\".format(bestGamma)\n",
      "    #clf = OneClassSVM(nu=outlier_fraction, gamma=bestGamma)\n",
      "    #clf.fit(train)\n",
      "    #prediction = clf.predict(test)\n",
      "\n",
      "plot(all_gammas, all_errors_positive, label='Miss inlier')\n",
      "plot(all_gammas, all_errors_negative, label='Miss outlier')\n",
      "xlabel('Gamma')\n",
      "xscale('log')\n",
      "ylabel('Error')\n",
      "ylim((0, 1.1))\n",
      "legend(loc='best')\n",
      "grid(True)"
     ],
     "language": "python",
     "metadata": {},
     "outputs": [
      {
       "output_type": "stream",
       "stream": "stdout",
       "text": [
        "0.540358744395 0.943605683837\n",
        "0.542600896861"
       ]
      },
      {
       "output_type": "stream",
       "stream": "stdout",
       "text": [
        " 0.943938721137\n",
        "0.545964125561"
       ]
      },
      {
       "output_type": "stream",
       "stream": "stdout",
       "text": [
        " 0.944271758437\n",
        "0.55269058296"
       ]
      },
      {
       "output_type": "stream",
       "stream": "stdout",
       "text": [
        " 0.944826820604\n",
        "0.560538116592"
       ]
      },
      {
       "output_type": "stream",
       "stream": "stdout",
       "text": [
        " 0.945492895204\n",
        "0.567264573991"
       ]
      },
      {
       "output_type": "stream",
       "stream": "stdout",
       "text": [
        " 0.946158969805\n",
        "0.581838565022"
       ]
      },
      {
       "output_type": "stream",
       "stream": "stdout",
       "text": [
        " 0.947713143872\n",
        "0.596412556054"
       ]
      },
      {
       "output_type": "stream",
       "stream": "stdout",
       "text": [
        " 0.949156305506\n",
        "0.613228699552"
       ]
      },
      {
       "output_type": "stream",
       "stream": "stdout",
       "text": [
        " 0.950821492007\n",
        "0.630044843049"
       ]
      },
      {
       "output_type": "stream",
       "stream": "stdout",
       "text": [
        " 0.952708703375\n",
        "0.641255605381"
       ]
      },
      {
       "output_type": "stream",
       "stream": "stdout",
       "text": [
        " 0.953818827709\n",
        "0.650224215247"
       ]
      },
      {
       "output_type": "stream",
       "stream": "stdout",
       "text": [
        " 0.954484902309\n",
        "0.660313901345"
       ]
      },
      {
       "output_type": "stream",
       "stream": "stdout",
       "text": [
        " 0.955595026643\n",
        "0.670403587444"
       ]
      },
      {
       "output_type": "stream",
       "stream": "stdout",
       "text": [
        " 0.956372113677\n",
        "0.678251121076"
       ]
      },
      {
       "output_type": "stream",
       "stream": "stdout",
       "text": [
        " 0.953818827709\n",
        "0.67600896861"
       ]
      },
      {
       "output_type": "stream",
       "stream": "stdout",
       "text": [
        " 0.928285968028\n",
        "0.683856502242"
       ]
      },
      {
       "output_type": "stream",
       "stream": "stdout",
       "text": [
        " 0.867673179396\n",
        "0.706278026906"
       ]
      },
      {
       "output_type": "stream",
       "stream": "stdout",
       "text": [
        " 0.767317939609\n",
        "0.670403587444"
       ]
      },
      {
       "output_type": "stream",
       "stream": "stdout",
       "text": [
        " 0.702708703375\n",
        "0.667040358744"
       ]
      },
      {
       "output_type": "stream",
       "stream": "stdout",
       "text": [
        " 0.698712255773\n"
       ]
      },
      {
       "metadata": {},
       "output_type": "display_data",
       "png": "[encoded data removed]",
       "text": [
        "<matplotlib.figure.Figure at 0x7f590e1f4510>"
       ]
      }
     ],
     "prompt_number": 32
    },
    {
     "cell_type": "code",
     "collapsed": false,
     "input": [],
     "language": "python",
     "metadata": {},
     "outputs": []
    },
    {
     "cell_type": "code",
     "collapsed": false,
     "input": [
      "scatter(data[:,0], data[:,1], c=labels)"
     ],
     "language": "python",
     "metadata": {},
     "outputs": [
      {
       "metadata": {},
       "output_type": "pyout",
       "prompt_number": 81,
       "text": [
        "<matplotlib.collections.PathCollection at 0x7f4182f35590>"
       ]
      },
      {
       "metadata": {},
       "output_type": "display_data",
       "png": "[encoded data removed]",
       "text": [
        "<matplotlib.figure.Figure at 0x7f4180b86090>"
       ]
      }
     ],
     "prompt_number": 81
    },
    {
     "cell_type": "markdown",
     "metadata": {},
     "source": [
      "\u0413\u0440\u0430\u0444\u0438\u043a \u0437\u0430\u0432\u0438\u0441\u0438\u043c\u043e\u0441\u0442\u0438 \u0444\u0443\u043d\u043a\u0446\u0438\u043e\u043d\u0430\u043b\u0430 \u043a\u0430\u0447\u0435\u0441\u0442\u0432\u0430 \u0434\u043b\u044f \u043e\u0446\u0435\u043d\u043a\u0438 \u043f\u043e \u0441\u0432\u043e\u0439\u0441\u0442\u0432\u0443 \u044f\u0434\u0435\u0440"
     ]
    },
    {
     "cell_type": "code",
     "collapsed": false,
     "input": [
      "#_, errors = select_best_kernel_metric(train)\n",
      "plot(all_gammas, -array(errors), label='Kernel Metric')\n",
      "xlabel('Gamma')\n",
      "ylabel('Kernel Metric')\n",
      "legend(loc='best')\n",
      "grid(True)\n",
      "xscale('log')"
     ],
     "language": "python",
     "metadata": {},
     "outputs": [
      {
       "metadata": {},
       "output_type": "display_data",
       "png": "[encoded data removed]",
       "text": [
        "<matplotlib.figure.Figure at 0x7f41829b0a90>"
       ]
      }
     ],
     "prompt_number": 24
    },
    {
     "cell_type": "markdown",
     "metadata": {},
     "source": [
      "\u041c\u0435\u0442\u0440\u0438\u043a\u0430 \u043f\u043e \u0441\u043b\u0443\u0447\u0430\u0439\u043d\u043e\u0439 \u0433\u0435\u043d\u0435\u0440\u0430\u0446\u0438\u0438 \u043e\u0443\u0442\u043b\u0430\u0435\u0440\u043e\u0432"
     ]
    },
    {
     "cell_type": "code",
     "collapsed": false,
     "input": [
      "_, errors = parameters_selection_by_random_points(train)\n",
      "plot(all_gammas, array(errors), label='Sampling Metric')\n",
      "xlabel('Gamma')\n",
      "ylabel('Sampling Metric')\n",
      "legend(loc='best')\n",
      "xscale('log')\n",
      "yscale('log')\n",
      "grid(True)"
     ],
     "language": "python",
     "metadata": {},
     "outputs": [
      {
       "output_type": "stream",
       "stream": "stdout",
       "text": [
        "6.84639758588e-05\n",
        "6.99752763774e-05"
       ]
      },
      {
       "output_type": "stream",
       "stream": "stdout",
       "text": [
        "\n",
        "6.40290677866e-05"
       ]
      },
      {
       "output_type": "stream",
       "stream": "stdout",
       "text": [
        "\n",
        "6.69691742541e-05"
       ]
      },
      {
       "output_type": "stream",
       "stream": "stdout",
       "text": [
        "\n",
        "7.30473741566e-05"
       ]
      },
      {
       "output_type": "stream",
       "stream": "stdout",
       "text": [
        "\n",
        "7.30473741566e-05"
       ]
      },
      {
       "output_type": "stream",
       "stream": "stdout",
       "text": [
        "\n",
        "7.30473741566e-05"
       ]
      },
      {
       "output_type": "stream",
       "stream": "stdout",
       "text": [
        "\n",
        "8.10163495988e-05"
       ]
      },
      {
       "output_type": "stream",
       "stream": "stdout",
       "text": [
        "\n",
        "7.46081714171e-05"
       ]
      },
      {
       "output_type": "stream",
       "stream": "stdout",
       "text": [
        "\n",
        "5.16152849239e-05"
       ]
      },
      {
       "output_type": "stream",
       "stream": "stdout",
       "text": [
        "\n",
        "2.78469494746e-05"
       ]
      },
      {
       "output_type": "stream",
       "stream": "stdout",
       "text": [
        "\n",
        "1.59387758301e-06"
       ]
      },
      {
       "output_type": "stream",
       "stream": "stdout",
       "text": [
        "\n",
        "0.000272954815249"
       ]
      },
      {
       "output_type": "stream",
       "stream": "stdout",
       "text": [
        "\n",
        "0.00841360475697"
       ]
      },
      {
       "output_type": "stream",
       "stream": "stdout",
       "text": [
        "\n",
        "0.137182434349"
       ]
      },
      {
       "output_type": "stream",
       "stream": "stdout",
       "text": [
        "\n",
        "0.547936109688"
       ]
      },
      {
       "output_type": "stream",
       "stream": "stdout",
       "text": [
        "\n",
        "0.749836447998"
       ]
      },
      {
       "output_type": "stream",
       "stream": "stdout",
       "text": [
        "\n",
        "0.84835644262"
       ]
      },
      {
       "output_type": "stream",
       "stream": "stdout",
       "text": [
        "\n",
        "0.885052003834"
       ]
      },
      {
       "output_type": "stream",
       "stream": "stdout",
       "text": [
        "\n",
        "0.900154568508"
       ]
      },
      {
       "output_type": "stream",
       "stream": "stdout",
       "text": [
        "\n"
       ]
      },
      {
       "metadata": {},
       "output_type": "display_data",
       "png": "[encoded data removed]",
       "text": [
        "<matplotlib.figure.Figure at 0x7f418282a210>"
       ]
      }
     ],
     "prompt_number": 60
    },
    {
     "cell_type": "markdown",
     "metadata": {},
     "source": [
      "\u0417\u0430\u0432\u0438\u0441\u0438\u043c\u043e\u0441\u0442\u044c \u043e\u0442 \u0433\u0430\u043c\u043c\u044b \u043c\u0435\u0442\u0440\u0438\u043a\u0438 \u0441\u0432\u044f\u0437\u0430\u043d\u043d\u043e\u0439 \u0441 \u043a\u043e\u043b\u0438\u0447\u0435\u0441\u0442\u0432\u043e\u043c \u043e\u043f\u043e\u0440\u043d\u044b\u0445 \u0432\u0435\u043a\u0442\u043e\u0440\u043e\u0432"
     ]
    },
    {
     "cell_type": "code",
     "collapsed": false,
     "input": [
      "_, errors = select_best_support_vectors(train)\n",
      "plot(all_gammas, array(errors), label='Support Metric')\n",
      "xlabel('Gamma')\n",
      "ylabel('Support Metric')\n",
      "legend(loc='best')\n",
      "xscale('log')\n",
      "yscale('log')\n",
      "grid(True)"
     ],
     "language": "python",
     "metadata": {},
     "outputs": [
      {
       "ename": "NameError",
       "evalue": "name 'train' is not defined",
       "output_type": "pyerr",
       "traceback": [
        "\u001b[1;31m---------------------------------------------------------------------------\u001b[0m\n\u001b[1;31mNameError\u001b[0m                                 Traceback (most recent call last)",
        "\u001b[1;32m<ipython-input-14-522e7dbd05f4>\u001b[0m in \u001b[0;36m<module>\u001b[1;34m()\u001b[0m\n\u001b[1;32m----> 1\u001b[1;33m \u001b[0m_\u001b[0m\u001b[1;33m,\u001b[0m \u001b[0merrors\u001b[0m \u001b[1;33m=\u001b[0m \u001b[0mselect_best_support_vectors\u001b[0m\u001b[1;33m(\u001b[0m\u001b[0mtrain\u001b[0m\u001b[1;33m)\u001b[0m\u001b[1;33m\u001b[0m\u001b[0m\n\u001b[0m\u001b[0;32m      2\u001b[0m \u001b[0mplot\u001b[0m\u001b[1;33m(\u001b[0m\u001b[0mall_gammas\u001b[0m\u001b[1;33m,\u001b[0m \u001b[0marray\u001b[0m\u001b[1;33m(\u001b[0m\u001b[0merrors\u001b[0m\u001b[1;33m)\u001b[0m\u001b[1;33m,\u001b[0m \u001b[0mlabel\u001b[0m\u001b[1;33m=\u001b[0m\u001b[1;34m'Support Metric'\u001b[0m\u001b[1;33m)\u001b[0m\u001b[1;33m\u001b[0m\u001b[0m\n\u001b[0;32m      3\u001b[0m \u001b[0mxlabel\u001b[0m\u001b[1;33m(\u001b[0m\u001b[1;34m'Gamma'\u001b[0m\u001b[1;33m)\u001b[0m\u001b[1;33m\u001b[0m\u001b[0m\n\u001b[0;32m      4\u001b[0m \u001b[0mylabel\u001b[0m\u001b[1;33m(\u001b[0m\u001b[1;34m'Support Metric'\u001b[0m\u001b[1;33m)\u001b[0m\u001b[1;33m\u001b[0m\u001b[0m\n\u001b[0;32m      5\u001b[0m \u001b[0mlegend\u001b[0m\u001b[1;33m(\u001b[0m\u001b[0mloc\u001b[0m\u001b[1;33m=\u001b[0m\u001b[1;34m'best'\u001b[0m\u001b[1;33m)\u001b[0m\u001b[1;33m\u001b[0m\u001b[0m\n",
        "\u001b[1;31mNameError\u001b[0m: name 'train' is not defined"
       ]
      }
     ],
     "prompt_number": 14
    },
    {
     "cell_type": "code",
     "collapsed": false,
     "input": [
      "nu = 0.1\n",
      "features_count = 2\n",
      "clf = OneClassSVM(nu=nu)\n",
      "#data = make_classification(n_samples=100000, n_features=features_count,n_redundant=0, n_classes=2, weights=[0.00])[0]\n",
      "data = randn(10000, features_count)\n",
      "outlier_count = int(len(data) * nu)\n",
      "second_class = (lhs(data.shape[1], samples=outlier_count)) * (data.max().max() - data.min().min()) * 3\n",
      "second_class -= mean(second_class)\n",
      "#second_class = rand(*data.shape) - 0.5\n",
      "#second_class *= 10\n",
      "labels = array([1] * len(data) + [-1] * len(second_class))\n",
      "data = r_[data, second_class]\n",
      "train, test, train_y, test_y = train_test_split(data, labels, train_size=0.5)\n",
      "all_gammas = 2 ** linspace(-10, 10, 20)\n",
      "all_errors_positive = []\n",
      "all_errors_negative = []\n",
      "all_errors = []\n",
      "for gamma in all_gammas:\n",
      "    clf.gamma = gamma\n",
      "    clf.fit(train)\n",
      "    inliers_marks = test_y == 1\n",
      "    outlier_marks = test_y == -1\n",
      "    inliers_marks = inliers_marks.nonzero()[0]\n",
      "    outlier_marks = outlier_marks.nonzero()[0]\n",
      "    test_iniers = test[inliers_marks, :]\n",
      "    test_outliers = test[outlier_marks, :]    \n",
      "    prediction = clf.predict(test_iniers)\n",
      "    all_errors_positive.append(mean(prediction == -1))\n",
      "    prediction = clf.predict(test_outliers)\n",
      "    all_errors_negative.append(mean(prediction == 1))\n",
      "    \n",
      "    print all_errors_negative[-1], all_errors_positive[-1]\n",
      "    #bestGamma = parameters_selector(train)\n",
      "    #print \"Best gamma = {}\".format(bestGamma)\n",
      "    #clf = OneClassSVM(nu=outlier_fraction, gamma=bestGamma)\n",
      "    #clf.fit(train)\n",
      "    #prediction = clf.predict(test)\n",
      "\n",
      "plot(all_gammas, all_errors_positive, label='Miss inlier')\n",
      "plot(all_gammas, all_errors_negative, label='Miss outlier')\n",
      "#plot(all_gammas, all_errors, label='Summ Error')\n",
      "xlabel('Gamma')\n",
      "xscale('log')\n",
      "ylabel('Error')\n",
      "ylim((0, 1.1))\n",
      "legend(loc='best')\n",
      "grid(True)"
     ],
     "language": "python",
     "metadata": {},
     "outputs": [
      {
       "output_type": "stream",
       "stream": "stdout",
       "text": [
        "0.0487329434698 0.0150391016643\n",
        "0.0487329434698"
       ]
      },
      {
       "output_type": "stream",
       "stream": "stdout",
       "text": [
        " 0.0148385803088\n",
        "0.0506822612086"
       ]
      },
      {
       "output_type": "stream",
       "stream": "stdout",
       "text": [
        " 0.0148385803088\n",
        "0.0506822612086"
       ]
      },
      {
       "output_type": "stream",
       "stream": "stdout",
       "text": [
        " 0.0150391016643\n",
        "0.0506822612086"
       ]
      },
      {
       "output_type": "stream",
       "stream": "stdout",
       "text": [
        " 0.0132344094646\n",
        "0.0506822612086"
       ]
      },
      {
       "output_type": "stream",
       "stream": "stdout",
       "text": [
        " 0.0142370162422\n",
        "0.0487329434698"
       ]
      },
      {
       "output_type": "stream",
       "stream": "stdout",
       "text": [
        " 0.0152396230199\n",
        "0.0506822612086"
       ]
      },
      {
       "output_type": "stream",
       "stream": "stdout",
       "text": [
        " 0.0150391016643\n",
        "0.0506822612086"
       ]
      },
      {
       "output_type": "stream",
       "stream": "stdout",
       "text": [
        " 0.020653699619\n",
        "0.056530214425"
       ]
      },
      {
       "output_type": "stream",
       "stream": "stdout",
       "text": [
        " 0.045117304993\n",
        "0.0526315789474"
       ]
      },
      {
       "output_type": "stream",
       "stream": "stdout",
       "text": [
        " 0.161419691197\n",
        "0.0487329434698"
       ]
      },
      {
       "output_type": "stream",
       "stream": "stdout",
       "text": [
        " 0.271906958091\n",
        "0.0448343079922"
       ]
      },
      {
       "output_type": "stream",
       "stream": "stdout",
       "text": [
        " 0.376378584319\n",
        "0.0448343079922"
       ]
      },
      {
       "output_type": "stream",
       "stream": "stdout",
       "text": [
        " 0.377982755163\n",
        "0.0292397660819"
       ]
      },
      {
       "output_type": "stream",
       "stream": "stdout",
       "text": [
        " 0.442951674353\n",
        "0.0136452241715"
       ]
      },
      {
       "output_type": "stream",
       "stream": "stdout",
       "text": [
        " 0.520753960297\n",
        "0.00584795321637"
       ]
      },
      {
       "output_type": "stream",
       "stream": "stdout",
       "text": [
        " 0.593743733708\n",
        "0.00389863547758"
       ]
      },
      {
       "output_type": "stream",
       "stream": "stdout",
       "text": [
        " 0.702827351113\n",
        "0.00194931773879"
       ]
      },
      {
       "output_type": "stream",
       "stream": "stdout",
       "text": [
        " 0.804491678364\n",
        "0.0"
       ]
      },
      {
       "output_type": "stream",
       "stream": "stdout",
       "text": [
        " 0.893523160217\n"
       ]
      },
      {
       "metadata": {},
       "output_type": "display_data",
       "png": "[encoded data removed]",
       "text": [
        "<matplotlib.figure.Figure at 0x7ff8efc37190>"
       ]
      }
     ],
     "prompt_number": 18
    },
    {
     "cell_type": "code",
     "collapsed": false,
     "input": [
      "nu = 0.05\n",
      "features_count = 2\n",
      "outlier_count = int(len(data) * nu)\n",
      "data = randn(10000, features_count)\n",
      "outlier_count = int(len(data) * nu)\n",
      "second_class = (lhs(data.shape[1], samples=outlier_count)) * (data.max().max() - data.min().min()) * 3\n",
      "second_class -= mean(second_class)\n",
      "#second_class = rand(*data.shape) - 0.5\n",
      "#second_class *= 10\n",
      "labels = array([1] * len(data) + [-1] * len(second_class))\n",
      "data = r_[data, second_class]\n",
      "train, test, train_y, test_y = train_test_split(data, labels, train_size=0.5)\n",
      "\n",
      "gamma = 2\n",
      "clf = OneClassSVM(nu=nu, gamma=gamma)\n",
      "clf.fit(train)\n",
      "x = arange(-15, 15, 0.1)\n",
      "y = arange(-15, 15, 0.1)\n",
      "XX, YY = meshgrid(x, y)\n",
      "ZZ = clf.predict(c_[XX.ravel(), YY.ravel()]).reshape(XX.shape)\n",
      "contourf(x, y, ZZ)\n",
      "scatter(test[(test_y == -1).nonzero()[0], 0], test[(test_y == -1).nonzero()[0], 1], c='b')\n",
      "scatter(train[(train_y == -1).nonzero()[0], 0], train[(train_y == -1).nonzero()[0], 1], c='r')\n",
      "#scatter(train[(train_y == 1).nonzero()[0], 0], train[(train_y == 1).nonzero()[0], 1], c='k')\n",
      "marks = test_y == -1\n",
      "marks = marks.nonzero()[0]\n",
      "print mean(clf.predict(test[marks,:]) == 1)"
     ],
     "language": "python",
     "metadata": {},
     "outputs": [
      {
       "output_type": "stream",
       "stream": "stdout",
       "text": [
        "0.05078125\n"
       ]
      },
      {
       "metadata": {},
       "output_type": "display_data",
       "png": "[encoded data removed]",
       "text": [
        "<matplotlib.figure.Figure at 0x7f84febb59d0>"
       ]
      }
     ],
     "prompt_number": 17
    },
    {
     "cell_type": "code",
     "collapsed": false,
     "input": [
      "nu = 0.1\n",
      "clf = OneClassSVM(nu=nu)\n",
      "#data = make_classification(n_samples=100000, n_features =10,n_redundant=0, n_classes=2, weights=[0.00])[0]\n",
      "data = randn(10000, 2)\n",
      "outlier_count = int(len(data) * nu)\n",
      "second_class = (lhs(data.shape[1], samples=outlier_count) - mean(data)) * (data.max() - data.min())\n",
      "labels = array([1] * len(data) + [-1] * len(second_class))\n",
      "data = r_[data, second_class]"
     ],
     "language": "python",
     "metadata": {},
     "outputs": [],
     "prompt_number": 33
    },
    {
     "cell_type": "code",
     "collapsed": false,
     "input": [
      "all_gammas = 2 ** linspace(-20, 20, 20)\n",
      "_, errors = select_best_support_vectors(train, 0.1, all_gammas)\n",
      "plot(all_gammas, array(errors), label='Support Vectors Optimization')\n",
      "xlabel('Gamma')\n",
      "ylabel('Support Vectors Metric')\n",
      "legend(loc='best')\n",
      "xscale('log')\n",
      "yscale('log')\n",
      "grid(True)"
     ],
     "language": "python",
     "metadata": {},
     "outputs": [
      {
       "metadata": {},
       "output_type": "display_data",
       "png": "[encoded data removed]",
       "text": [
        "<matplotlib.figure.Figure at 0x7f3338fe9ed0>"
       ]
      }
     ],
     "prompt_number": 27
    },
    {
     "cell_type": "markdown",
     "metadata": {},
     "source": [
      "presenation plan "
     ]
    },
    {
     "cell_type": "code",
     "collapsed": false,
     "input": [
      "train = randn(1000, 2)\n",
      "all_gammas = 2 ** linspace(-18, 10, 50)\n",
      "best_index, errors_cross_val = select_best_outlier_fraction_cross_val(train, folds_count=7, all_gammas=all_gammas)\n",
      "print best_index\n",
      "plot(all_gammas, array(errors_cross_val), label='Sampling Metric')\n",
      "scatter(all_gammas[best_index], errors_cross_val[best_index], c='r')\n",
      "annotate('Selected Value', xy=(all_gammas[best_index], errors_cross_val[best_index]))\n",
      "xlabel('Gamma')\n",
      "ylabel('Outlier Fraction Metric')\n",
      "legend(loc='best')\n",
      "xscale('log')\n",
      "yscale('log')\n",
      "grid(True)"
     ],
     "language": "python",
     "metadata": {},
     "outputs": [
      {
       "output_type": "stream",
       "stream": "stdout",
       "text": [
        "31\n"
       ]
      },
      {
       "metadata": {},
       "output_type": "display_data",
       "png": "[encoded data removed]",
       "text": [
        "<matplotlib.figure.Figure at 0x7f3338453950>"
       ]
      }
     ],
     "prompt_number": 76
    },
    {
     "cell_type": "code",
     "collapsed": false,
     "input": [
      "plot(all_gammas, array(errors), label='No Cross Validation')\n",
      "plot(all_gammas, array(errors_cross_val), label='Cross Validation')\n",
      "xlabel('Gamma')\n",
      "ylabel('Sampling Metric')\n",
      "legend(loc='best')\n",
      "xscale('log')\n",
      "yscale('log')\n",
      "grid(True)\n"
     ],
     "language": "python",
     "metadata": {},
     "outputs": [
      {
       "ename": "ValueError",
       "evalue": "x and y must have same first dimension",
       "output_type": "pyerr",
       "traceback": [
        "\u001b[1;31m---------------------------------------------------------------------------\u001b[0m\n\u001b[1;31mValueError\u001b[0m                                Traceback (most recent call last)",
        "\u001b[1;32m<ipython-input-75-44f58c044089>\u001b[0m in \u001b[0;36m<module>\u001b[1;34m()\u001b[0m\n\u001b[1;32m----> 1\u001b[1;33m \u001b[0mplot\u001b[0m\u001b[1;33m(\u001b[0m\u001b[0mall_gammas\u001b[0m\u001b[1;33m,\u001b[0m \u001b[0marray\u001b[0m\u001b[1;33m(\u001b[0m\u001b[0merrors\u001b[0m\u001b[1;33m)\u001b[0m\u001b[1;33m,\u001b[0m \u001b[0mlabel\u001b[0m\u001b[1;33m=\u001b[0m\u001b[1;34m'No Cross Validation'\u001b[0m\u001b[1;33m)\u001b[0m\u001b[1;33m\u001b[0m\u001b[0m\n\u001b[0m\u001b[0;32m      2\u001b[0m \u001b[0mplot\u001b[0m\u001b[1;33m(\u001b[0m\u001b[0mall_gammas\u001b[0m\u001b[1;33m,\u001b[0m \u001b[0marray\u001b[0m\u001b[1;33m(\u001b[0m\u001b[0merrors_cross_val\u001b[0m\u001b[1;33m)\u001b[0m\u001b[1;33m,\u001b[0m \u001b[0mlabel\u001b[0m\u001b[1;33m=\u001b[0m\u001b[1;34m'Cross Validation'\u001b[0m\u001b[1;33m)\u001b[0m\u001b[1;33m\u001b[0m\u001b[0m\n\u001b[0;32m      3\u001b[0m \u001b[0mxlabel\u001b[0m\u001b[1;33m(\u001b[0m\u001b[1;34m'Gamma'\u001b[0m\u001b[1;33m)\u001b[0m\u001b[1;33m\u001b[0m\u001b[0m\n\u001b[0;32m      4\u001b[0m \u001b[0mylabel\u001b[0m\u001b[1;33m(\u001b[0m\u001b[1;34m'Sampling Metric'\u001b[0m\u001b[1;33m)\u001b[0m\u001b[1;33m\u001b[0m\u001b[0m\n\u001b[0;32m      5\u001b[0m \u001b[0mlegend\u001b[0m\u001b[1;33m(\u001b[0m\u001b[0mloc\u001b[0m\u001b[1;33m=\u001b[0m\u001b[1;34m'best'\u001b[0m\u001b[1;33m)\u001b[0m\u001b[1;33m\u001b[0m\u001b[0m\n",
        "\u001b[1;32m/usr/local/lib/python2.7/dist-packages/matplotlib-1.4.0-py2.7-linux-x86_64.egg/matplotlib/pyplot.pyc\u001b[0m in \u001b[0;36mplot\u001b[1;34m(*args, **kwargs)\u001b[0m\n\u001b[0;32m   3091\u001b[0m         \u001b[0max\u001b[0m\u001b[1;33m.\u001b[0m\u001b[0mhold\u001b[0m\u001b[1;33m(\u001b[0m\u001b[0mhold\u001b[0m\u001b[1;33m)\u001b[0m\u001b[1;33m\u001b[0m\u001b[0m\n\u001b[0;32m   3092\u001b[0m     \u001b[1;32mtry\u001b[0m\u001b[1;33m:\u001b[0m\u001b[1;33m\u001b[0m\u001b[0m\n\u001b[1;32m-> 3093\u001b[1;33m         \u001b[0mret\u001b[0m \u001b[1;33m=\u001b[0m \u001b[0max\u001b[0m\u001b[1;33m.\u001b[0m\u001b[0mplot\u001b[0m\u001b[1;33m(\u001b[0m\u001b[1;33m*\u001b[0m\u001b[0margs\u001b[0m\u001b[1;33m,\u001b[0m \u001b[1;33m**\u001b[0m\u001b[0mkwargs\u001b[0m\u001b[1;33m)\u001b[0m\u001b[1;33m\u001b[0m\u001b[0m\n\u001b[0m\u001b[0;32m   3094\u001b[0m         \u001b[0mdraw_if_interactive\u001b[0m\u001b[1;33m(\u001b[0m\u001b[1;33m)\u001b[0m\u001b[1;33m\u001b[0m\u001b[0m\n\u001b[0;32m   3095\u001b[0m     \u001b[1;32mfinally\u001b[0m\u001b[1;33m:\u001b[0m\u001b[1;33m\u001b[0m\u001b[0m\n",
        "\u001b[1;32m/usr/local/lib/python2.7/dist-packages/matplotlib-1.4.0-py2.7-linux-x86_64.egg/matplotlib/axes/_axes.pyc\u001b[0m in \u001b[0;36mplot\u001b[1;34m(self, *args, **kwargs)\u001b[0m\n\u001b[0;32m   1371\u001b[0m         \u001b[0mlines\u001b[0m \u001b[1;33m=\u001b[0m \u001b[1;33m[\u001b[0m\u001b[1;33m]\u001b[0m\u001b[1;33m\u001b[0m\u001b[0m\n\u001b[0;32m   1372\u001b[0m \u001b[1;33m\u001b[0m\u001b[0m\n\u001b[1;32m-> 1373\u001b[1;33m         \u001b[1;32mfor\u001b[0m \u001b[0mline\u001b[0m \u001b[1;32min\u001b[0m \u001b[0mself\u001b[0m\u001b[1;33m.\u001b[0m\u001b[0m_get_lines\u001b[0m\u001b[1;33m(\u001b[0m\u001b[1;33m*\u001b[0m\u001b[0margs\u001b[0m\u001b[1;33m,\u001b[0m \u001b[1;33m**\u001b[0m\u001b[0mkwargs\u001b[0m\u001b[1;33m)\u001b[0m\u001b[1;33m:\u001b[0m\u001b[1;33m\u001b[0m\u001b[0m\n\u001b[0m\u001b[0;32m   1374\u001b[0m             \u001b[0mself\u001b[0m\u001b[1;33m.\u001b[0m\u001b[0madd_line\u001b[0m\u001b[1;33m(\u001b[0m\u001b[0mline\u001b[0m\u001b[1;33m)\u001b[0m\u001b[1;33m\u001b[0m\u001b[0m\n\u001b[0;32m   1375\u001b[0m             \u001b[0mlines\u001b[0m\u001b[1;33m.\u001b[0m\u001b[0mappend\u001b[0m\u001b[1;33m(\u001b[0m\u001b[0mline\u001b[0m\u001b[1;33m)\u001b[0m\u001b[1;33m\u001b[0m\u001b[0m\n",
        "\u001b[1;32m/usr/local/lib/python2.7/dist-packages/matplotlib-1.4.0-py2.7-linux-x86_64.egg/matplotlib/axes/_base.pyc\u001b[0m in \u001b[0;36m_grab_next_args\u001b[1;34m(self, *args, **kwargs)\u001b[0m\n\u001b[0;32m    301\u001b[0m                 \u001b[1;32mreturn\u001b[0m\u001b[1;33m\u001b[0m\u001b[0m\n\u001b[0;32m    302\u001b[0m             \u001b[1;32mif\u001b[0m \u001b[0mlen\u001b[0m\u001b[1;33m(\u001b[0m\u001b[0mremaining\u001b[0m\u001b[1;33m)\u001b[0m \u001b[1;33m<=\u001b[0m \u001b[1;36m3\u001b[0m\u001b[1;33m:\u001b[0m\u001b[1;33m\u001b[0m\u001b[0m\n\u001b[1;32m--> 303\u001b[1;33m                 \u001b[1;32mfor\u001b[0m \u001b[0mseg\u001b[0m \u001b[1;32min\u001b[0m \u001b[0mself\u001b[0m\u001b[1;33m.\u001b[0m\u001b[0m_plot_args\u001b[0m\u001b[1;33m(\u001b[0m\u001b[0mremaining\u001b[0m\u001b[1;33m,\u001b[0m \u001b[0mkwargs\u001b[0m\u001b[1;33m)\u001b[0m\u001b[1;33m:\u001b[0m\u001b[1;33m\u001b[0m\u001b[0m\n\u001b[0m\u001b[0;32m    304\u001b[0m                     \u001b[1;32myield\u001b[0m \u001b[0mseg\u001b[0m\u001b[1;33m\u001b[0m\u001b[0m\n\u001b[0;32m    305\u001b[0m                 \u001b[1;32mreturn\u001b[0m\u001b[1;33m\u001b[0m\u001b[0m\n",
        "\u001b[1;32m/usr/local/lib/python2.7/dist-packages/matplotlib-1.4.0-py2.7-linux-x86_64.egg/matplotlib/axes/_base.pyc\u001b[0m in \u001b[0;36m_plot_args\u001b[1;34m(self, tup, kwargs)\u001b[0m\n\u001b[0;32m    279\u001b[0m             \u001b[0mx\u001b[0m \u001b[1;33m=\u001b[0m \u001b[0mnp\u001b[0m\u001b[1;33m.\u001b[0m\u001b[0marange\u001b[0m\u001b[1;33m(\u001b[0m\u001b[0my\u001b[0m\u001b[1;33m.\u001b[0m\u001b[0mshape\u001b[0m\u001b[1;33m[\u001b[0m\u001b[1;36m0\u001b[0m\u001b[1;33m]\u001b[0m\u001b[1;33m,\u001b[0m \u001b[0mdtype\u001b[0m\u001b[1;33m=\u001b[0m\u001b[0mfloat\u001b[0m\u001b[1;33m)\u001b[0m\u001b[1;33m\u001b[0m\u001b[0m\n\u001b[0;32m    280\u001b[0m \u001b[1;33m\u001b[0m\u001b[0m\n\u001b[1;32m--> 281\u001b[1;33m         \u001b[0mx\u001b[0m\u001b[1;33m,\u001b[0m \u001b[0my\u001b[0m \u001b[1;33m=\u001b[0m \u001b[0mself\u001b[0m\u001b[1;33m.\u001b[0m\u001b[0m_xy_from_xy\u001b[0m\u001b[1;33m(\u001b[0m\u001b[0mx\u001b[0m\u001b[1;33m,\u001b[0m \u001b[0my\u001b[0m\u001b[1;33m)\u001b[0m\u001b[1;33m\u001b[0m\u001b[0m\n\u001b[0m\u001b[0;32m    282\u001b[0m \u001b[1;33m\u001b[0m\u001b[0m\n\u001b[0;32m    283\u001b[0m         \u001b[1;32mif\u001b[0m \u001b[0mself\u001b[0m\u001b[1;33m.\u001b[0m\u001b[0mcommand\u001b[0m \u001b[1;33m==\u001b[0m \u001b[1;34m'plot'\u001b[0m\u001b[1;33m:\u001b[0m\u001b[1;33m\u001b[0m\u001b[0m\n",
        "\u001b[1;32m/usr/local/lib/python2.7/dist-packages/matplotlib-1.4.0-py2.7-linux-x86_64.egg/matplotlib/axes/_base.pyc\u001b[0m in \u001b[0;36m_xy_from_xy\u001b[1;34m(self, x, y)\u001b[0m\n\u001b[0;32m    221\u001b[0m         \u001b[0my\u001b[0m \u001b[1;33m=\u001b[0m \u001b[0mnp\u001b[0m\u001b[1;33m.\u001b[0m\u001b[0matleast_1d\u001b[0m\u001b[1;33m(\u001b[0m\u001b[0my\u001b[0m\u001b[1;33m)\u001b[0m\u001b[1;33m\u001b[0m\u001b[0m\n\u001b[0;32m    222\u001b[0m         \u001b[1;32mif\u001b[0m \u001b[0mx\u001b[0m\u001b[1;33m.\u001b[0m\u001b[0mshape\u001b[0m\u001b[1;33m[\u001b[0m\u001b[1;36m0\u001b[0m\u001b[1;33m]\u001b[0m \u001b[1;33m!=\u001b[0m \u001b[0my\u001b[0m\u001b[1;33m.\u001b[0m\u001b[0mshape\u001b[0m\u001b[1;33m[\u001b[0m\u001b[1;36m0\u001b[0m\u001b[1;33m]\u001b[0m\u001b[1;33m:\u001b[0m\u001b[1;33m\u001b[0m\u001b[0m\n\u001b[1;32m--> 223\u001b[1;33m             \u001b[1;32mraise\u001b[0m \u001b[0mValueError\u001b[0m\u001b[1;33m(\u001b[0m\u001b[1;34m\"x and y must have same first dimension\"\u001b[0m\u001b[1;33m)\u001b[0m\u001b[1;33m\u001b[0m\u001b[0m\n\u001b[0m\u001b[0;32m    224\u001b[0m         \u001b[1;32mif\u001b[0m \u001b[0mx\u001b[0m\u001b[1;33m.\u001b[0m\u001b[0mndim\u001b[0m \u001b[1;33m>\u001b[0m \u001b[1;36m2\u001b[0m \u001b[1;32mor\u001b[0m \u001b[0my\u001b[0m\u001b[1;33m.\u001b[0m\u001b[0mndim\u001b[0m \u001b[1;33m>\u001b[0m \u001b[1;36m2\u001b[0m\u001b[1;33m:\u001b[0m\u001b[1;33m\u001b[0m\u001b[0m\n\u001b[0;32m    225\u001b[0m             \u001b[1;32mraise\u001b[0m \u001b[0mValueError\u001b[0m\u001b[1;33m(\u001b[0m\u001b[1;34m\"x and y can be no greater than 2-D\"\u001b[0m\u001b[1;33m)\u001b[0m\u001b[1;33m\u001b[0m\u001b[0m\n",
        "\u001b[1;31mValueError\u001b[0m: x and y must have same first dimension"
       ]
      },
      {
       "metadata": {},
       "output_type": "display_data",
       "png": "[encoded data removed]",
       "text": [
        "<matplotlib.figure.Figure at 0x7f3338d06690>"
       ]
      }
     ],
     "prompt_number": 75
    },
    {
     "cell_type": "code",
     "collapsed": false,
     "input": [
      "tmp = pd.Series(errors)"
     ],
     "language": "python",
     "metadata": {},
     "outputs": [],
     "prompt_number": 37
    },
    {
     "cell_type": "code",
     "collapsed": false,
     "input": [
      "tmp.pct_change().argmax()"
     ],
     "language": "python",
     "metadata": {},
     "outputs": [
      {
       "metadata": {},
       "output_type": "pyout",
       "prompt_number": 44,
       "text": [
        "10"
       ]
      }
     ],
     "prompt_number": 44
    },
    {
     "cell_type": "code",
     "collapsed": false,
     "input": [
      "plot(tmp)"
     ],
     "language": "python",
     "metadata": {},
     "outputs": [
      {
       "metadata": {},
       "output_type": "pyout",
       "prompt_number": 39,
       "text": [
        "[<matplotlib.lines.Line2D at 0x7f3338f282d0>]"
       ]
      },
      {
       "metadata": {},
       "output_type": "display_data",
       "png": "[encoded data removed]",
       "text": [
        "<matplotlib.figure.Figure at 0x7f3338acac90>"
       ]
      }
     ],
     "prompt_number": 39
    },
    {
     "cell_type": "code",
     "collapsed": false,
     "input": [
      "train = randn(1000, 2)\n",
      "all_gammas = 2 ** linspace(-20, 10, 50)\n",
      "best_index, errors_cross_val = slice_probability_spavce_selection(train, rho=0.9, folds_count=2, all_gammas=all_gammas)\n",
      "plot(all_gammas, array(errors_cross_val), label='Sampling Metric')\n",
      "xlabel('Gamma')\n",
      "ylabel('Outlier Fraction Metric')\n",
      "legend(loc='best')\n",
      "xscale('log')\n",
      "yscale('log')\n",
      "grid(True)"
     ],
     "language": "python",
     "metadata": {},
     "outputs": [
      {
       "metadata": {},
       "output_type": "display_data",
       "png": "[encoded data removed]",
       "text": [
        "<matplotlib.figure.Figure at 0x7f3338e9e050>"
       ]
      }
     ],
     "prompt_number": 94
    },
    {
     "cell_type": "code",
     "collapsed": false,
     "input": [
      "%pylab inline"
     ],
     "language": "python",
     "metadata": {},
     "outputs": [
      {
       "output_type": "stream",
       "stream": "stdout",
       "text": [
        "Populating the interactive namespace from numpy and matplotlib\n"
       ]
      }
     ],
     "prompt_number": 2
    },
    {
     "cell_type": "code",
     "collapsed": false,
     "input": [
      "data = loadtxt('outlier_fraction_error_cross_val_matrix_dim18_size100')"
     ],
     "language": "python",
     "metadata": {},
     "outputs": [],
     "prompt_number": 36
    },
    {
     "cell_type": "code",
     "collapsed": false,
     "input": [
      "data.shape"
     ],
     "language": "python",
     "metadata": {},
     "outputs": [
      {
       "metadata": {},
       "output_type": "pyout",
       "prompt_number": 37,
       "text": [
        "(50, 9)"
       ]
      }
     ],
     "prompt_number": 37
    },
    {
     "cell_type": "code",
     "collapsed": false,
     "input": [
      "figsize(20, 12)\n",
      "x = 2 ** linspace(-10, 10, 50)\n",
      "#plot(x, data[:,0], label=r'$\\mathbb{R}^2$')\n",
      "plot(x, data[:,4], label=r'$R^6$')\n",
      "plot(x, data[:,6], label=r'$R^{10}$')\n",
      "plot(x, data[:,8], label=r'$R^{16}$')\n",
      "xscale('log')\n",
      "grid(True)\n",
      "legend(loc='best')"
     ],
     "language": "python",
     "metadata": {},
     "outputs": [
      {
       "metadata": {},
       "output_type": "pyout",
       "prompt_number": 38,
       "text": [
        "<matplotlib.legend.Legend at 0x7f6f0b569790>"
       ]
      },
      {
       "metadata": {},
       "output_type": "display_data",
       "png": "[encoded data removed]",
       "text": [
        "<matplotlib.figure.Figure at 0x7f6f0bc6b410>"
       ]
      }
     ],
     "prompt_number": 38
    },
    {
     "cell_type": "code",
     "collapsed": false,
     "input": [
      "x"
     ],
     "language": "python",
     "metadata": {},
     "outputs": [
      {
       "metadata": {},
       "output_type": "pyout",
       "prompt_number": 18,
       "text": [
        "array([  9.76562500e-04,   1.29589385e-03,   1.71964506e-03,\n",
        "         2.28196091e-03,   3.02815142e-03,   4.01834271e-03,\n",
        "         5.33232190e-03,   7.07596613e-03,   9.38977382e-03,\n",
        "         1.24601858e-02,   1.65346080e-02,   2.19413472e-02,\n",
        "         2.91160647e-02,   3.86368811e-02,   5.12709598e-02,\n",
        "         6.80363228e-02,   9.02838809e-02,   1.19806286e-01,\n",
        "         1.58982379e-01,   2.10968870e-01,   2.79954700e-01,\n",
        "         3.71498572e-01,   4.92976861e-01,   6.54177979e-01,\n",
        "         8.68091107e-01,   1.15195282e+00,   1.52863599e+00,\n",
        "         2.02849277e+00,   2.69180039e+00,   3.57200647e+00,\n",
        "         4.74003581e+00,   6.29000526e+00,   8.34680745e+00,\n",
        "         1.10761743e+01,   1.46980313e+01,   1.95042185e+01,\n",
        "         2.58820063e+01,   3.43453008e+01,   4.55760529e+01,\n",
        "         6.04792082e+01,   8.02556253e+01,   1.06498838e+02,\n",
        "         1.41323458e+02,   1.87535565e+02,   2.48858814e+02,\n",
        "         3.30234477e+02,   4.38219601e+02,   5.81515352e+02,\n",
        "         7.71668141e+02,   1.02400000e+03])"
       ]
      }
     ],
     "prompt_number": 18
    },
    {
     "cell_type": "code",
     "collapsed": false,
     "input": [
      "ls"
     ],
     "language": "python",
     "metadata": {},
     "outputs": [
      {
       "output_type": "stream",
       "stream": "stdout",
       "text": [
        "\u001b[0m\u001b[01;34mbuild\u001b[0m/\r\n",
        "imbalanced.py\r\n",
        "imbalanced.pyc\r\n",
        "kernel_error_matrix_dim10_size100\r\n",
        "kernel_error_matrix_dim10_size500\r\n",
        "kernel_error_matrix_dim12_size100\r\n",
        "kernel_error_matrix_dim12_size500\r\n",
        "kernel_error_matrix_dim14_size100\r\n",
        "kernel_error_matrix_dim14_size500\r\n",
        "kernel_error_matrix_dim16_size100\r\n",
        "kernel_error_matrix_dim16_size500\r\n",
        "kernel_error_matrix_dim18_size100\r\n",
        "kernel_error_matrix_dim2_size100\r\n",
        "kernel_error_matrix_dim2_size500\r\n",
        "kernel_error_matrix_dim4_size100\r\n",
        "kernel_error_matrix_dim4_size500\r\n",
        "kernel_error_matrix_dim6_size100\r\n",
        "kernel_error_matrix_dim6_size500\r\n",
        "kernel_error_matrix_dim8_size100\r\n",
        "kernel_error_matrix_dim8_size500\r\n",
        "kernel_error_std_dim10_size100\r\n",
        "kernel_error_std_dim10_size500\r\n",
        "kernel_error_std_dim12_size100\r\n",
        "kernel_error_std_dim12_size500\r\n",
        "kernel_error_std_dim14_size100\r\n",
        "kernel_error_std_dim14_size500\r\n",
        "kernel_error_std_dim16_size100\r\n",
        "kernel_error_std_dim16_size500\r\n",
        "kernel_error_std_dim18_size100\r\n",
        "kernel_error_std_dim2_size100\r\n",
        "kernel_error_std_dim2_size500\r\n",
        "kernel_error_std_dim4_size100\r\n",
        "kernel_error_std_dim4_size500\r\n",
        "kernel_error_std_dim6_size100\r\n",
        "kernel_error_std_dim6_size500\r\n",
        "kernel_error_std_dim8_size100\r\n",
        "kernel_error_std_dim8_size500\r\n",
        "Kernel Selection Experiments.ipynb\r\n",
        "massive_test.py\r\n",
        "middle_values.c\r\n",
        "middle_values.pyx\r\n",
        "\u001b[01;32mmiddle_values.so\u001b[0m*\r\n",
        "outlier_fraction_error_cross_val_matrix_dim10_size100\r\n",
        "outlier_fraction_error_cross_val_matrix_dim10_size500\r\n",
        "outlier_fraction_error_cross_val_matrix_dim12_size100\r\n",
        "outlier_fraction_error_cross_val_matrix_dim12_size500\r\n",
        "outlier_fraction_error_cross_val_matrix_dim14_size100\r\n",
        "outlier_fraction_error_cross_val_matrix_dim14_size500\r\n",
        "outlier_fraction_error_cross_val_matrix_dim16_size100\r\n",
        "outlier_fraction_error_cross_val_matrix_dim16_size500\r\n",
        "outlier_fraction_error_cross_val_matrix_dim18_size100\r\n",
        "outlier_fraction_error_cross_val_matrix_dim2_size100\r\n",
        "outlier_fraction_error_cross_val_matrix_dim2_size500\r\n",
        "outlier_fraction_error_cross_val_matrix_dim4_size100\r\n",
        "outlier_fraction_error_cross_val_matrix_dim4_size500\r\n",
        "outlier_fraction_error_cross_val_matrix_dim6_size100\r\n",
        "outlier_fraction_error_cross_val_matrix_dim6_size500\r\n",
        "outlier_fraction_error_cross_val_matrix_dim8_size100\r\n",
        "outlier_fraction_error_cross_val_matrix_dim8_size500\r\n",
        "outlier_fraction_error_cross_val_std_dim10_size100\r\n",
        "outlier_fraction_error_cross_val_std_dim10_size500\r\n",
        "outlier_fraction_error_cross_val_std_dim12_size100\r\n",
        "outlier_fraction_error_cross_val_std_dim12_size500\r\n",
        "outlier_fraction_error_cross_val_std_dim14_size100\r\n",
        "outlier_fraction_error_cross_val_std_dim14_size500\r\n",
        "outlier_fraction_error_cross_val_std_dim16_size100\r\n",
        "outlier_fraction_error_cross_val_std_dim16_size500\r\n",
        "outlier_fraction_error_cross_val_std_dim18_size100\r\n",
        "outlier_fraction_error_cross_val_std_dim2_size100\r\n",
        "outlier_fraction_error_cross_val_std_dim2_size500\r\n",
        "outlier_fraction_error_cross_val_std_dim4_size100\r\n",
        "outlier_fraction_error_cross_val_std_dim4_size500\r\n",
        "outlier_fraction_error_cross_val_std_dim6_size100\r\n",
        "outlier_fraction_error_cross_val_std_dim6_size500\r\n",
        "outlier_fraction_error_cross_val_std_dim8_size100\r\n",
        "outlier_fraction_error_cross_val_std_dim8_size500\r\n",
        "outlier_fraction_error_matrix_dim10_size100\r\n",
        "outlier_fraction_error_matrix_dim10_size500\r\n",
        "outlier_fraction_error_matrix_dim12_size100\r\n",
        "outlier_fraction_error_matrix_dim12_size500\r\n",
        "outlier_fraction_error_matrix_dim14_size100\r\n",
        "outlier_fraction_error_matrix_dim14_size500\r\n",
        "outlier_fraction_error_matrix_dim16_size100\r\n",
        "outlier_fraction_error_matrix_dim16_size500\r\n",
        "outlier_fraction_error_matrix_dim18_size100\r\n",
        "outlier_fraction_error_matrix_dim2_size100\r\n",
        "outlier_fraction_error_matrix_dim2_size500\r\n",
        "outlier_fraction_error_matrix_dim4_size100\r\n",
        "outlier_fraction_error_matrix_dim4_size500\r\n",
        "outlier_fraction_error_matrix_dim6_size100\r\n",
        "outlier_fraction_error_matrix_dim6_size500\r\n",
        "outlier_fraction_error_matrix_dim8_size100\r\n",
        "outlier_fraction_error_matrix_dim8_size500\r\n",
        "outlier_fraction_error_std_dim10_size100\r\n",
        "outlier_fraction_error_std_dim10_size500\r\n",
        "outlier_fraction_error_std_dim12_size100\r\n",
        "outlier_fraction_error_std_dim12_size500\r\n",
        "outlier_fraction_error_std_dim14_size100\r\n",
        "outlier_fraction_error_std_dim14_size500\r\n",
        "outlier_fraction_error_std_dim16_size100\r\n",
        "outlier_fraction_error_std_dim16_size500\r\n",
        "outlier_fraction_error_std_dim18_size100\r\n",
        "outlier_fraction_error_std_dim2_size100\r\n",
        "outlier_fraction_error_std_dim2_size500\r\n",
        "outlier_fraction_error_std_dim4_size100\r\n",
        "outlier_fraction_error_std_dim4_size500\r\n",
        "outlier_fraction_error_std_dim6_size100\r\n",
        "outlier_fraction_error_std_dim6_size500\r\n",
        "outlier_fraction_error_std_dim8_size100\r\n",
        "outlier_fraction_error_std_dim8_size500\r\n",
        "\u001b[01;34mpresentation\u001b[0m/\r\n",
        "random_generations_error_matrix_dim10_size100\r\n",
        "random_generations_error_matrix_dim10_size500\r\n",
        "random_generations_error_matrix_dim12_size100\r\n",
        "random_generations_error_matrix_dim12_size500\r\n",
        "random_generations_error_matrix_dim14_size100\r\n",
        "random_generations_error_matrix_dim14_size500\r\n",
        "random_generations_error_matrix_dim16_size100\r\n",
        "random_generations_error_matrix_dim16_size500\r\n",
        "random_generations_error_matrix_dim18_size100\r\n",
        "random_generations_error_matrix_dim2_size100\r\n",
        "random_generations_error_matrix_dim2_size500\r\n",
        "random_generations_error_matrix_dim4_size100\r\n",
        "random_generations_error_matrix_dim4_size500\r\n",
        "random_generations_error_matrix_dim6_size100\r\n",
        "random_generations_error_matrix_dim6_size500\r\n",
        "random_generations_error_matrix_dim8_size100\r\n",
        "random_generations_error_matrix_dim8_size500\r\n",
        "random_generations_error_std_dim10_size100\r\n",
        "random_generations_error_std_dim10_size500\r\n",
        "random_generations_error_std_dim12_size100\r\n",
        "random_generations_error_std_dim12_size500\r\n",
        "random_generations_error_std_dim14_size100\r\n",
        "random_generations_error_std_dim14_size500\r\n",
        "random_generations_error_std_dim16_size100\r\n",
        "random_generations_error_std_dim16_size500\r\n",
        "random_generations_error_std_dim18_size100\r\n",
        "random_generations_error_std_dim2_size100\r\n",
        "random_generations_error_std_dim2_size500\r\n",
        "random_generations_error_std_dim4_size100\r\n",
        "random_generations_error_std_dim4_size500\r\n",
        "random_generations_error_std_dim6_size100\r\n",
        "random_generations_error_std_dim6_size500\r\n",
        "random_generations_error_std_dim8_size100\r\n",
        "random_generations_error_std_dim8_size500\r\n",
        "README.md\r\n",
        "setup.py\r\n",
        "slice_error_dim10_size100\r\n",
        "slice_error_dim10_size500\r\n",
        "slice_error_dim12_size100\r\n",
        "slice_error_dim12_size500\r\n",
        "slice_error_dim14_size100\r\n",
        "slice_error_dim14_size500\r\n",
        "slice_error_dim16_size100\r\n",
        "slice_error_dim16_size500\r\n",
        "slice_error_dim18_size100\r\n",
        "slice_error_dim2_size100\r\n",
        "slice_error_dim2_size500\r\n",
        "slice_error_dim4_size100\r\n",
        "slice_error_dim4_size500\r\n",
        "slice_error_dim6_size100\r\n",
        "slice_error_dim6_size500\r\n",
        "slice_error_dim8_size100\r\n",
        "slice_error_dim8_size500\r\n",
        "slice_std_dim10_size100\r\n",
        "slice_std_dim10_size500\r\n",
        "slice_std_dim12_size100\r\n",
        "slice_std_dim12_size500\r\n",
        "slice_std_dim14_size100\r\n",
        "slice_std_dim14_size500\r\n",
        "slice_std_dim16_size100\r\n",
        "slice_std_dim16_size500\r\n",
        "slice_std_dim18_size100\r\n",
        "slice_std_dim2_size100\r\n",
        "slice_std_dim2_size500\r\n",
        "slice_std_dim4_size100\r\n",
        "slice_std_dim4_size500\r\n",
        "slice_std_dim6_size100\r\n",
        "slice_std_dim6_size500\r\n",
        "slice_std_dim8_size100\r\n",
        "slice_std_dim8_size500\r\n"
       ]
      }
     ],
     "prompt_number": 35
    },
    {
     "cell_type": "code",
     "collapsed": false,
     "input": [],
     "language": "python",
     "metadata": {},
     "outputs": []
    }
   ],
   "metadata": {}
  }
 ]
}